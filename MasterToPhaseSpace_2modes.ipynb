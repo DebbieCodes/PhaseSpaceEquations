{
 "cells": [
  {
   "cell_type": "code",
   "execution_count": 1,
   "metadata": {
    "executionInfo": {
     "elapsed": 1356,
     "status": "ok",
     "timestamp": 1668157082689,
     "user": {
      "displayName": "Debbie Eeltink",
      "userId": "06060535786777641520"
     },
     "user_tz": -60
    },
    "id": "T_sOcNxRBSia"
   },
   "outputs": [],
   "source": [
    "from sympy.physics.quantum import Commutator, Operator\n",
    "import sympy\n",
    "from sympy import *\n",
    "from IPython.display import display\n",
    "import numpy as np"
   ]
  },
  {
   "cell_type": "markdown",
   "metadata": {
    "id": "DhxxJs-fCCaA"
   },
   "source": [
    "# Hamiltonian"
   ]
  },
  {
   "cell_type": "markdown",
   "metadata": {
    "id": "7yzp8fy22uCW"
   },
   "source": [
    "Define operators and constants"
   ]
  },
  {
   "cell_type": "code",
   "execution_count": 2,
   "metadata": {
    "executionInfo": {
     "elapsed": 11,
     "status": "ok",
     "timestamp": 1668157105160,
     "user": {
      "displayName": "Debbie Eeltink",
      "userId": "06060535786777641520"
     },
     "user_tz": -60
    },
    "id": "VDosqbTu2rTP"
   },
   "outputs": [],
   "source": [
    "U, F,G, delta_a, delta_b, J, kappa_a, kappa_ad,eta = symbols(r'U F G \\Delta_a \\Delta_b J \\kappa_{a} \\kappa_{ad} \\eta')\n",
    "\n",
    "a = Symbol(r'a', commutative=False)\n",
    "ad = Symbol(r'a^\\dag', commutative=False)\n",
    "b = Symbol(r'b', commutative=False)\n",
    "bd = Symbol(r'b^\\dag', commutative=False)\n",
    "\n",
    "rho = Symbol(r'\\rho', commutative=False)"
   ]
  },
  {
   "cell_type": "markdown",
   "metadata": {
    "id": "7Sk3iGz2DkyO"
   },
   "source": [
    "Construct Hamiltonian"
   ]
  },
  {
   "cell_type": "code",
   "execution_count": 3,
   "metadata": {
    "colab": {
     "base_uri": "https://localhost:8080/",
     "height": 52
    },
    "executionInfo": {
     "elapsed": 11,
     "status": "ok",
     "timestamp": 1668157105161,
     "user": {
      "displayName": "Debbie Eeltink",
      "userId": "06060535786777641520"
     },
     "user_tz": -60
    },
    "id": "SoyHDYxDBg2Y",
    "outputId": "2e4a998e-5a2e-4cc7-ea1b-9f15cbf6d91f"
   },
   "outputs": [
    {
     "data": {
      "text/latex": [
       "$\\displaystyle G \\left(a^{2} + \\left(a^{\\dag}\\right)^{2}\\right)$"
      ],
      "text/plain": [
       "G*(a**2 + a^\\dag**2)"
      ]
     },
     "metadata": {},
     "output_type": "display_data"
    }
   ],
   "source": [
    "Ham1 = J*(ad*b+a*bd) + F*(ad+a) -delta_a*ad*a -delta_b*bd*b  + Rational(1, 2)*U*ad*ad*a*a\n",
    "Ham2 = -delta_a*ad*a -delta_b*bd*b\n",
    "Ham3 = Mul(U,ad,ad,a,a,evaluate=False)\n",
    "Ham4 = UnevaluatedExpr(Mul(Rational(1, 2)*U,ad,ad,a,a,evaluate=False))\n",
    "Ham5 = J*(a*bd+ad*b)\n",
    "Ham6 = G*(ad*ad+a*a)\n",
    "\n",
    "MyHam = Ham6\n",
    "display(MyHam)"
   ]
  },
  {
   "cell_type": "markdown",
   "metadata": {
    "id": "6zIXRGKdDeQ1"
   },
   "source": [
    "Jump operators"
   ]
  },
  {
   "cell_type": "code",
   "execution_count": 4,
   "metadata": {
    "executionInfo": {
     "elapsed": 9,
     "status": "ok",
     "timestamp": 1668157105161,
     "user": {
      "displayName": "Debbie Eeltink",
      "userId": "06060535786777641520"
     },
     "user_tz": -60
    },
    "id": "ulzcYzC-DgbV"
   },
   "outputs": [],
   "source": [
    "\n",
    "def getJump(constant,c,rho):\n",
    "    cd = Dagger(c)\n",
    "    return UnevaluatedExpr(constant*(cd*rho*c - Rational(1, 2)*(c*cd*rho + rho*c*cd)))\n",
    "\n",
    "D1 = (kappa_a/2)*(a*rho*ad - Rational(1, 2)*(ad*a*rho + rho*ad*a)) \n",
    "D1ad = (kappa_ad/2)*(ad*rho*a - Rational(1, 2)*(a*ad*rho + rho*a*ad))\n",
    "D2 = eta*(a*a*rho*ad*ad - Rational(1, 2)*(ad*ad*a*a*rho + rho*ad*ad*a*a))\n",
    "#D1 = getJump(kappa_a,a,rho) !!! Not working because the Dagger() is not recognized as one of the defined symbols when applying the operators!\n",
    "#display(D1)\n",
    "\n",
    "    "
   ]
  },
  {
   "cell_type": "markdown",
   "metadata": {
    "id": "i-R8qI6oCAcw"
   },
   "source": [
    "# Lindblad master equation"
   ]
  },
  {
   "cell_type": "code",
   "execution_count": 5,
   "metadata": {
    "colab": {
     "base_uri": "https://localhost:8080/",
     "height": 100
    },
    "executionInfo": {
     "elapsed": 9,
     "status": "ok",
     "timestamp": 1668157105161,
     "user": {
      "displayName": "Debbie Eeltink",
      "userId": "06060535786777641520"
     },
     "user_tz": -60
    },
    "id": "vu7BnXvyHJAG",
    "outputId": "cdfc71e0-946f-441e-d13d-028af7daca19"
   },
   "outputs": [
    {
     "data": {
      "text/latex": [
       "$\\displaystyle \\frac{\\kappa_{ad} \\left(a^{\\dag} \\rho a - \\frac{\\rho a a^{\\dag} + a a^{\\dag} \\rho}{2}\\right)}{2}$"
      ],
      "text/plain": [
       "\\kappa_{ad}*(a^\\dag*\\rho*a - (\\rho*a*a^\\dag + a*a^\\dag*\\rho)/2)/2"
      ]
     },
     "metadata": {},
     "output_type": "display_data"
    },
    {
     "data": {
      "text/latex": [
       "$\\displaystyle - \\frac{\\kappa_{ad} \\rho a a^{\\dag}}{4} - \\frac{\\kappa_{ad} a a^{\\dag} \\rho}{4} + \\frac{\\kappa_{ad} a^{\\dag} \\rho a}{2}$"
      ],
      "text/plain": [
       "-\\kappa_{ad}*\\rho*a*a^\\dag/4 - \\kappa_{ad}*a*a^\\dag*\\rho/4 + \\kappa_{ad}*a^\\dag*\\rho*a/2"
      ]
     },
     "metadata": {},
     "output_type": "display_data"
    }
   ],
   "source": [
    "#ME_comm = -sympy.I* (Commutator(MyHam, rho))\n",
    "ME_comm = D1ad\n",
    "display(ME_comm)\n",
    "ME= ME_comm.doit()\n",
    "#display(ME)\n",
    "ME = expand(ME)\n",
    "display(ME)"
   ]
  },
  {
   "cell_type": "markdown",
   "metadata": {
    "id": "mqM0V3bl20EM"
   },
   "source": [
    "# Convert to desired phase space function"
   ]
  },
  {
   "cell_type": "code",
   "execution_count": 6,
   "metadata": {
    "executionInfo": {
     "elapsed": 1526,
     "status": "ok",
     "timestamp": 1668157106680,
     "user": {
      "displayName": "Debbie Eeltink",
      "userId": "06060535786777641520"
     },
     "user_tz": -60
    },
    "id": "Hir6HBza_Eh_"
   },
   "outputs": [],
   "source": [
    "from phasespaceconversion import pow_to_mul_sep2,PhaseSpaceFunction"
   ]
  },
  {
   "cell_type": "code",
   "execution_count": 7,
   "metadata": {},
   "outputs": [
    {
     "data": {
      "text/latex": [
       "$\\displaystyle a^{\\dag} \\rho a$"
      ],
      "text/plain": [
       "a^\\dag*\\rho*a"
      ]
     },
     "metadata": {},
     "output_type": "display_data"
    },
    {
     "name": "stdout",
     "output_type": "stream",
     "text": [
      "(a^\\dag, \\rho, a)\n",
      "(a^\\dag, \\rho, a)\n",
      "1\n",
      "rho occurs on position  1\n",
      "[a^\\dag, a]\n",
      "['LHS', 'RHS']\n",
      "(a^\\dag, a)\n"
     ]
    }
   ],
   "source": [
    "clean_term = ad*rho*a\n",
    "display(clean_term)\n",
    "clean_termNoRho =  clean_term.subs(rho,1 )\n",
    "print(clean_term.args)\n",
    "\n",
    "def getPosRho(clean_term,rho):\n",
    "    counter=0\n",
    "    items= clean_term.args\n",
    "    n_items = len(items)\n",
    "    print(items)\n",
    "    for k in range(n_items):\n",
    "        item = items[k]\n",
    "        if item==rho:\n",
    "           break    # break here\n",
    "        else:\n",
    "            [op, n] = item.as_base_exp()\n",
    "            counter = counter+n\n",
    "            print(counter)\n",
    "\n",
    "    print('rho occurs on position  {}'.format(counter))\n",
    "    return counter\n",
    "\n",
    "def labelOperators(ordered_operators, pos_rho):\n",
    "    n_operators = len(ordered_operators)\n",
    "    operator_labels = ['RHS']*n_operators\n",
    "    operator_labels[:pos_rho]=['LHS']*pos_rho\n",
    "    return operator_labels\n",
    "\n",
    "pos_rho=getPosRho(clean_term,rho)\n",
    "ordered_operators = pow_to_mul_sep2(clean_termNoRho)\n",
    "\n",
    "operator_labels=labelOperators(ordered_operators, pos_rho)\n",
    "\n",
    "print(ordered_operators)\n",
    "print(operator_labels)\n",
    "operator_labels =[] # label each individual operator in the list as RHS or LHS of Rho\n",
    "print(clean_termNoRho.args)"
   ]
  },
  {
   "cell_type": "code",
   "execution_count": 8,
   "metadata": {},
   "outputs": [],
   "source": [
    "# ordered_operators = pow_to_mul_sep2(clean_termNoRho)\n",
    "# display(ordered_operators)\n",
    "\n"
   ]
  },
  {
   "cell_type": "markdown",
   "metadata": {
    "id": "kvIRQoFT_CWS"
   },
   "source": [
    "Wigner"
   ]
  },
  {
   "cell_type": "code",
   "execution_count": 9,
   "metadata": {
    "colab": {
     "base_uri": "https://localhost:8080/",
     "height": 1000
    },
    "executionInfo": {
     "elapsed": 1239,
     "status": "ok",
     "timestamp": 1668157107913,
     "user": {
      "displayName": "Debbie Eeltink",
      "userId": "06060535786777641520"
     },
     "user_tz": -60
    },
    "id": "5lUudx05xbY3",
    "outputId": "e04f6f9d-0a80-42c1-cb89-0a3bd4dceee5"
   },
   "outputs": [
    {
     "data": {
      "text/plain": [
       "(\\kappa_{ad}*a^\\dag*\\rho*a/2,\n",
       " -\\kappa_{ad}*\\rho*a*a^\\dag/4,\n",
       " -\\kappa_{ad}*a*a^\\dag*\\rho/4)"
      ]
     },
     "metadata": {},
     "output_type": "display_data"
    },
    {
     "data": {
      "text/latex": [
       "$\\displaystyle \\frac{\\kappa_{ad} a^{\\dag} \\rho a}{2}$"
      ],
      "text/plain": [
       "\\kappa_{ad}*a^\\dag*\\rho*a/2"
      ]
     },
     "metadata": {},
     "output_type": "display_data"
    },
    {
     "data": {
      "text/latex": [
       "$\\displaystyle a^{\\dag} \\rho a$"
      ],
      "text/plain": [
       "a^\\dag*\\rho*a"
      ]
     },
     "metadata": {},
     "output_type": "display_data"
    },
    {
     "data": {
      "text/latex": [
       "$\\displaystyle a^{\\dag} a$"
      ],
      "text/plain": [
       "a^\\dag*a"
      ]
     },
     "metadata": {},
     "output_type": "display_data"
    },
    {
     "name": "stdout",
     "output_type": "stream",
     "text": [
      "(a^\\dag, \\rho, a)\n",
      "1\n",
      "rho occurs on position  1\n",
      "j=\n",
      "0\n",
      "Term 0 :\n",
      "ops left in mid term, order operators applied:\n",
      "[a^\\dag]\n"
     ]
    },
    {
     "data": {
      "text/latex": [
       "$\\displaystyle W{\\left(\\alpha,\\alpha^{*},\\beta,\\beta^{*} \\right)}$"
      ],
      "text/plain": [
       "W(\\alpha, \\alpha^*, \\beta, \\beta^*)"
      ]
     },
     "metadata": {},
     "output_type": "display_data"
    },
    {
     "data": {
      "text/latex": [
       "$\\displaystyle \\alpha^{*} W{\\left(\\alpha,\\alpha^{*},\\beta,\\beta^{*} \\right)} - \\frac{\\frac{\\partial}{\\partial \\alpha} W{\\left(\\alpha,\\alpha^{*},\\beta,\\beta^{*} \\right)}}{2}$"
      ],
      "text/plain": [
       "\\alpha^**W(\\alpha, \\alpha^*, \\beta, \\beta^*) - Derivative(W(\\alpha, \\alpha^*, \\beta, \\beta^*), \\alpha)/2"
      ]
     },
     "metadata": {},
     "output_type": "display_data"
    },
    {
     "name": "stdout",
     "output_type": "stream",
     "text": [
      "j=\n",
      "1\n",
      "Term 1 :\n",
      "ops right in mid term, order operators applied:\n",
      "[a]\n"
     ]
    },
    {
     "data": {
      "text/latex": [
       "$\\displaystyle \\alpha^{*} W{\\left(\\alpha,\\alpha^{*},\\beta,\\beta^{*} \\right)} - \\frac{\\frac{\\partial}{\\partial \\alpha} W{\\left(\\alpha,\\alpha^{*},\\beta,\\beta^{*} \\right)}}{2}$"
      ],
      "text/plain": [
       "\\alpha^**W(\\alpha, \\alpha^*, \\beta, \\beta^*) - Derivative(W(\\alpha, \\alpha^*, \\beta, \\beta^*), \\alpha)/2"
      ]
     },
     "metadata": {},
     "output_type": "display_data"
    },
    {
     "data": {
      "text/latex": [
       "$\\displaystyle \\alpha \\left(\\alpha^{*} W{\\left(\\alpha,\\alpha^{*},\\beta,\\beta^{*} \\right)} - \\frac{\\frac{\\partial}{\\partial \\alpha} W{\\left(\\alpha,\\alpha^{*},\\beta,\\beta^{*} \\right)}}{2}\\right) - \\frac{\\alpha^{*} \\frac{\\partial}{\\partial \\alpha^{*}} W{\\left(\\alpha,\\alpha^{*},\\beta,\\beta^{*} \\right)}}{2} - \\frac{W{\\left(\\alpha,\\alpha^{*},\\beta,\\beta^{*} \\right)}}{2} + \\frac{\\frac{\\partial^{2}}{\\partial \\alpha^{*}\\partial \\alpha} W{\\left(\\alpha,\\alpha^{*},\\beta,\\beta^{*} \\right)}}{4}$"
      ],
      "text/plain": [
       "\\alpha*(\\alpha^**W(\\alpha, \\alpha^*, \\beta, \\beta^*) - Derivative(W(\\alpha, \\alpha^*, \\beta, \\beta^*), \\alpha)/2) - \\alpha^**Derivative(W(\\alpha, \\alpha^*, \\beta, \\beta^*), \\alpha^*)/2 - W(\\alpha, \\alpha^*, \\beta, \\beta^*)/2 + Derivative(W(\\alpha, \\alpha^*, \\beta, \\beta^*), \\alpha, \\alpha^*)/4"
      ]
     },
     "metadata": {},
     "output_type": "display_data"
    },
    {
     "name": "stdout",
     "output_type": "stream",
     "text": [
      "Term 1 :\n",
      "ops right in mid term, order operators applied:\n",
      "[[a^\\dag], [a]]\n"
     ]
    },
    {
     "data": {
      "text/latex": [
       "$\\displaystyle \\frac{\\kappa_{ad} \\left(\\alpha \\left(\\alpha^{*} W{\\left(\\alpha,\\alpha^{*},\\beta,\\beta^{*} \\right)} - \\frac{\\frac{\\partial}{\\partial \\alpha} W{\\left(\\alpha,\\alpha^{*},\\beta,\\beta^{*} \\right)}}{2}\\right) - \\frac{\\alpha^{*} \\frac{\\partial}{\\partial \\alpha^{*}} W{\\left(\\alpha,\\alpha^{*},\\beta,\\beta^{*} \\right)}}{2} - \\frac{W{\\left(\\alpha,\\alpha^{*},\\beta,\\beta^{*} \\right)}}{2} + \\frac{\\frac{\\partial^{2}}{\\partial \\alpha^{*}\\partial \\alpha} W{\\left(\\alpha,\\alpha^{*},\\beta,\\beta^{*} \\right)}}{4}\\right)}{2}$"
      ],
      "text/plain": [
       "\\kappa_{ad}*(\\alpha*(\\alpha^**W(\\alpha, \\alpha^*, \\beta, \\beta^*) - Derivative(W(\\alpha, \\alpha^*, \\beta, \\beta^*), \\alpha)/2) - \\alpha^**Derivative(W(\\alpha, \\alpha^*, \\beta, \\beta^*), \\alpha^*)/2 - W(\\alpha, \\alpha^*, \\beta, \\beta^*)/2 + Derivative(W(\\alpha, \\alpha^*, \\beta, \\beta^*), \\alpha, \\alpha^*)/4)/2"
      ]
     },
     "metadata": {},
     "output_type": "display_data"
    },
    {
     "data": {
      "text/latex": [
       "$\\displaystyle - \\frac{\\kappa_{ad} \\rho a a^{\\dag}}{4}$"
      ],
      "text/plain": [
       "-\\kappa_{ad}*\\rho*a*a^\\dag/4"
      ]
     },
     "metadata": {},
     "output_type": "display_data"
    },
    {
     "data": {
      "text/latex": [
       "$\\displaystyle \\rho a a^{\\dag}$"
      ],
      "text/plain": [
       "\\rho*a*a^\\dag"
      ]
     },
     "metadata": {},
     "output_type": "display_data"
    },
    {
     "data": {
      "text/latex": [
       "$\\displaystyle a a^{\\dag}$"
      ],
      "text/plain": [
       "a*a^\\dag"
      ]
     },
     "metadata": {},
     "output_type": "display_data"
    },
    {
     "name": "stdout",
     "output_type": "stream",
     "text": [
      "Term 1 :\n",
      "RHS term, order operators applied:\n",
      "[a, a^\\dag]\n"
     ]
    },
    {
     "data": {
      "text/latex": [
       "$\\displaystyle - \\frac{\\kappa_{ad} \\left(\\frac{\\alpha \\frac{\\partial}{\\partial \\alpha} W{\\left(\\alpha,\\alpha^{*},\\beta,\\beta^{*} \\right)}}{2} + \\alpha^{*} \\left(\\alpha W{\\left(\\alpha,\\alpha^{*},\\beta,\\beta^{*} \\right)} - \\frac{\\frac{\\partial}{\\partial \\alpha^{*}} W{\\left(\\alpha,\\alpha^{*},\\beta,\\beta^{*} \\right)}}{2}\\right) + \\frac{W{\\left(\\alpha,\\alpha^{*},\\beta,\\beta^{*} \\right)}}{2} - \\frac{\\frac{\\partial^{2}}{\\partial \\alpha^{*}\\partial \\alpha} W{\\left(\\alpha,\\alpha^{*},\\beta,\\beta^{*} \\right)}}{4}\\right)}{4}$"
      ],
      "text/plain": [
       "-\\kappa_{ad}*(\\alpha*Derivative(W(\\alpha, \\alpha^*, \\beta, \\beta^*), \\alpha)/2 + \\alpha^**(\\alpha*W(\\alpha, \\alpha^*, \\beta, \\beta^*) - Derivative(W(\\alpha, \\alpha^*, \\beta, \\beta^*), \\alpha^*)/2) + W(\\alpha, \\alpha^*, \\beta, \\beta^*)/2 - Derivative(W(\\alpha, \\alpha^*, \\beta, \\beta^*), \\alpha, \\alpha^*)/4)/4"
      ]
     },
     "metadata": {},
     "output_type": "display_data"
    },
    {
     "data": {
      "text/latex": [
       "$\\displaystyle - \\frac{\\kappa_{ad} a a^{\\dag} \\rho}{4}$"
      ],
      "text/plain": [
       "-\\kappa_{ad}*a*a^\\dag*\\rho/4"
      ]
     },
     "metadata": {},
     "output_type": "display_data"
    },
    {
     "data": {
      "text/latex": [
       "$\\displaystyle a a^{\\dag} \\rho$"
      ],
      "text/plain": [
       "a*a^\\dag*\\rho"
      ]
     },
     "metadata": {},
     "output_type": "display_data"
    },
    {
     "data": {
      "text/latex": [
       "$\\displaystyle a a^{\\dag}$"
      ],
      "text/plain": [
       "a*a^\\dag"
      ]
     },
     "metadata": {},
     "output_type": "display_data"
    },
    {
     "name": "stdout",
     "output_type": "stream",
     "text": [
      "Term 2 :\n",
      "LHS term, order operators applied:\n",
      "[a^\\dag, a]\n"
     ]
    },
    {
     "data": {
      "text/latex": [
       "$\\displaystyle - \\frac{\\kappa_{ad} \\left(\\alpha \\left(\\alpha^{*} W{\\left(\\alpha,\\alpha^{*},\\beta,\\beta^{*} \\right)} - \\frac{\\frac{\\partial}{\\partial \\alpha} W{\\left(\\alpha,\\alpha^{*},\\beta,\\beta^{*} \\right)}}{2}\\right) + \\frac{\\alpha^{*} \\frac{\\partial}{\\partial \\alpha^{*}} W{\\left(\\alpha,\\alpha^{*},\\beta,\\beta^{*} \\right)}}{2} + \\frac{W{\\left(\\alpha,\\alpha^{*},\\beta,\\beta^{*} \\right)}}{2} - \\frac{\\frac{\\partial^{2}}{\\partial \\alpha^{*}\\partial \\alpha} W{\\left(\\alpha,\\alpha^{*},\\beta,\\beta^{*} \\right)}}{4}\\right)}{4}$"
      ],
      "text/plain": [
       "-\\kappa_{ad}*(\\alpha*(\\alpha^**W(\\alpha, \\alpha^*, \\beta, \\beta^*) - Derivative(W(\\alpha, \\alpha^*, \\beta, \\beta^*), \\alpha)/2) + \\alpha^**Derivative(W(\\alpha, \\alpha^*, \\beta, \\beta^*), \\alpha^*)/2 + W(\\alpha, \\alpha^*, \\beta, \\beta^*)/2 - Derivative(W(\\alpha, \\alpha^*, \\beta, \\beta^*), \\alpha, \\alpha^*)/4)/4"
      ]
     },
     "metadata": {},
     "output_type": "display_data"
    },
    {
     "name": "stdout",
     "output_type": "stream",
     "text": [
      "Result\n"
     ]
    },
    {
     "data": {
      "text/latex": [
       "$\\displaystyle - \\frac{\\alpha \\kappa_{ad} \\frac{\\partial}{\\partial \\alpha} W{\\left(\\alpha,\\alpha^{*},\\beta,\\beta^{*} \\right)}}{4} - \\frac{\\alpha^{*} \\kappa_{ad} \\frac{\\partial}{\\partial \\alpha^{*}} W{\\left(\\alpha,\\alpha^{*},\\beta,\\beta^{*} \\right)}}{4} - \\frac{\\kappa_{ad} W{\\left(\\alpha,\\alpha^{*},\\beta,\\beta^{*} \\right)}}{2} + \\frac{\\kappa_{ad} \\frac{\\partial^{2}}{\\partial \\alpha^{*}\\partial \\alpha} W{\\left(\\alpha,\\alpha^{*},\\beta,\\beta^{*} \\right)}}{4}$"
      ],
      "text/plain": [
       "-\\alpha*\\kappa_{ad}*Derivative(W(\\alpha, \\alpha^*, \\beta, \\beta^*), \\alpha)/4 - \\alpha^**\\kappa_{ad}*Derivative(W(\\alpha, \\alpha^*, \\beta, \\beta^*), \\alpha^*)/4 - \\kappa_{ad}*W(\\alpha, \\alpha^*, \\beta, \\beta^*)/2 + \\kappa_{ad}*Derivative(W(\\alpha, \\alpha^*, \\beta, \\beta^*), \\alpha, \\alpha^*)/4"
      ]
     },
     "metadata": {},
     "output_type": "display_data"
    }
   ],
   "source": [
    "myWigner = PhaseSpaceFunction(ME,'W')\n",
    "W_eqn = myWigner.getFPfromME()\n",
    "print('Result')\n",
    "display(expand(W_eqn))"
   ]
  },
  {
   "cell_type": "markdown",
   "metadata": {
    "id": "qUlInw6s_QZm"
   },
   "source": [
    "HusimiQ"
   ]
  },
  {
   "cell_type": "code",
   "execution_count": 10,
   "metadata": {
    "colab": {
     "base_uri": "https://localhost:8080/",
     "height": 907
    },
    "executionInfo": {
     "elapsed": 10,
     "status": "ok",
     "timestamp": 1668157107914,
     "user": {
      "displayName": "Debbie Eeltink",
      "userId": "06060535786777641520"
     },
     "user_tz": -60
    },
    "id": "dFz3ZXpp_YPX",
    "outputId": "a7daca9a-8128-4eda-82b2-d3710b876f03"
   },
   "outputs": [
    {
     "data": {
      "text/plain": [
       "(\\kappa_{ad}*a^\\dag*\\rho*a/2,\n",
       " -\\kappa_{ad}*\\rho*a*a^\\dag/4,\n",
       " -\\kappa_{ad}*a*a^\\dag*\\rho/4)"
      ]
     },
     "metadata": {},
     "output_type": "display_data"
    },
    {
     "data": {
      "text/latex": [
       "$\\displaystyle \\frac{\\kappa_{ad} a^{\\dag} \\rho a}{2}$"
      ],
      "text/plain": [
       "\\kappa_{ad}*a^\\dag*\\rho*a/2"
      ]
     },
     "metadata": {},
     "output_type": "display_data"
    },
    {
     "data": {
      "text/latex": [
       "$\\displaystyle a^{\\dag} \\rho a$"
      ],
      "text/plain": [
       "a^\\dag*\\rho*a"
      ]
     },
     "metadata": {},
     "output_type": "display_data"
    },
    {
     "data": {
      "text/latex": [
       "$\\displaystyle a^{\\dag} a$"
      ],
      "text/plain": [
       "a^\\dag*a"
      ]
     },
     "metadata": {},
     "output_type": "display_data"
    },
    {
     "name": "stdout",
     "output_type": "stream",
     "text": [
      "(a^\\dag, \\rho, a)\n",
      "1\n",
      "rho occurs on position  1\n",
      "j=\n",
      "0\n",
      "Term 0 :\n",
      "ops left in mid term, order operators applied:\n",
      "[a^\\dag]\n"
     ]
    },
    {
     "data": {
      "text/latex": [
       "$\\displaystyle Q{\\left(\\alpha,\\alpha^{*},\\beta,\\beta^{*} \\right)}$"
      ],
      "text/plain": [
       "Q(\\alpha, \\alpha^*, \\beta, \\beta^*)"
      ]
     },
     "metadata": {},
     "output_type": "display_data"
    },
    {
     "data": {
      "text/latex": [
       "$\\displaystyle \\alpha^{*} Q{\\left(\\alpha,\\alpha^{*},\\beta,\\beta^{*} \\right)}$"
      ],
      "text/plain": [
       "\\alpha^**Q(\\alpha, \\alpha^*, \\beta, \\beta^*)"
      ]
     },
     "metadata": {},
     "output_type": "display_data"
    },
    {
     "name": "stdout",
     "output_type": "stream",
     "text": [
      "j=\n",
      "1\n",
      "Term 1 :\n",
      "ops right in mid term, order operators applied:\n",
      "[a]\n"
     ]
    },
    {
     "data": {
      "text/latex": [
       "$\\displaystyle \\alpha^{*} Q{\\left(\\alpha,\\alpha^{*},\\beta,\\beta^{*} \\right)}$"
      ],
      "text/plain": [
       "\\alpha^**Q(\\alpha, \\alpha^*, \\beta, \\beta^*)"
      ]
     },
     "metadata": {},
     "output_type": "display_data"
    },
    {
     "data": {
      "text/latex": [
       "$\\displaystyle \\alpha \\alpha^{*} Q{\\left(\\alpha,\\alpha^{*},\\beta,\\beta^{*} \\right)}$"
      ],
      "text/plain": [
       "\\alpha*\\alpha^**Q(\\alpha, \\alpha^*, \\beta, \\beta^*)"
      ]
     },
     "metadata": {},
     "output_type": "display_data"
    },
    {
     "name": "stdout",
     "output_type": "stream",
     "text": [
      "Term 1 :\n",
      "ops right in mid term, order operators applied:\n",
      "[[a^\\dag], [a]]\n"
     ]
    },
    {
     "data": {
      "text/latex": [
       "$\\displaystyle \\frac{\\alpha \\alpha^{*} \\kappa_{ad} Q{\\left(\\alpha,\\alpha^{*},\\beta,\\beta^{*} \\right)}}{2}$"
      ],
      "text/plain": [
       "\\alpha*\\alpha^**\\kappa_{ad}*Q(\\alpha, \\alpha^*, \\beta, \\beta^*)/2"
      ]
     },
     "metadata": {},
     "output_type": "display_data"
    },
    {
     "data": {
      "text/latex": [
       "$\\displaystyle - \\frac{\\kappa_{ad} \\rho a a^{\\dag}}{4}$"
      ],
      "text/plain": [
       "-\\kappa_{ad}*\\rho*a*a^\\dag/4"
      ]
     },
     "metadata": {},
     "output_type": "display_data"
    },
    {
     "data": {
      "text/latex": [
       "$\\displaystyle \\rho a a^{\\dag}$"
      ],
      "text/plain": [
       "\\rho*a*a^\\dag"
      ]
     },
     "metadata": {},
     "output_type": "display_data"
    },
    {
     "data": {
      "text/latex": [
       "$\\displaystyle a a^{\\dag}$"
      ],
      "text/plain": [
       "a*a^\\dag"
      ]
     },
     "metadata": {},
     "output_type": "display_data"
    },
    {
     "name": "stdout",
     "output_type": "stream",
     "text": [
      "Term 1 :\n",
      "RHS term, order operators applied:\n",
      "[a, a^\\dag]\n"
     ]
    },
    {
     "data": {
      "text/latex": [
       "$\\displaystyle - \\frac{\\kappa_{ad} \\left(\\alpha \\alpha^{*} Q{\\left(\\alpha,\\alpha^{*},\\beta,\\beta^{*} \\right)} + \\alpha \\frac{\\partial}{\\partial \\alpha} Q{\\left(\\alpha,\\alpha^{*},\\beta,\\beta^{*} \\right)} + Q{\\left(\\alpha,\\alpha^{*},\\beta,\\beta^{*} \\right)}\\right)}{4}$"
      ],
      "text/plain": [
       "-\\kappa_{ad}*(\\alpha*\\alpha^**Q(\\alpha, \\alpha^*, \\beta, \\beta^*) + \\alpha*Derivative(Q(\\alpha, \\alpha^*, \\beta, \\beta^*), \\alpha) + Q(\\alpha, \\alpha^*, \\beta, \\beta^*))/4"
      ]
     },
     "metadata": {},
     "output_type": "display_data"
    },
    {
     "data": {
      "text/latex": [
       "$\\displaystyle - \\frac{\\kappa_{ad} a a^{\\dag} \\rho}{4}$"
      ],
      "text/plain": [
       "-\\kappa_{ad}*a*a^\\dag*\\rho/4"
      ]
     },
     "metadata": {},
     "output_type": "display_data"
    },
    {
     "data": {
      "text/latex": [
       "$\\displaystyle a a^{\\dag} \\rho$"
      ],
      "text/plain": [
       "a*a^\\dag*\\rho"
      ]
     },
     "metadata": {},
     "output_type": "display_data"
    },
    {
     "data": {
      "text/latex": [
       "$\\displaystyle a a^{\\dag}$"
      ],
      "text/plain": [
       "a*a^\\dag"
      ]
     },
     "metadata": {},
     "output_type": "display_data"
    },
    {
     "name": "stdout",
     "output_type": "stream",
     "text": [
      "Term 2 :\n",
      "LHS term, order operators applied:\n",
      "[a^\\dag, a]\n"
     ]
    },
    {
     "data": {
      "text/latex": [
       "$\\displaystyle - \\frac{\\kappa_{ad} \\left(\\alpha \\alpha^{*} Q{\\left(\\alpha,\\alpha^{*},\\beta,\\beta^{*} \\right)} + \\alpha^{*} \\frac{\\partial}{\\partial \\alpha^{*}} Q{\\left(\\alpha,\\alpha^{*},\\beta,\\beta^{*} \\right)} + Q{\\left(\\alpha,\\alpha^{*},\\beta,\\beta^{*} \\right)}\\right)}{4}$"
      ],
      "text/plain": [
       "-\\kappa_{ad}*(\\alpha*\\alpha^**Q(\\alpha, \\alpha^*, \\beta, \\beta^*) + \\alpha^**Derivative(Q(\\alpha, \\alpha^*, \\beta, \\beta^*), \\alpha^*) + Q(\\alpha, \\alpha^*, \\beta, \\beta^*))/4"
      ]
     },
     "metadata": {},
     "output_type": "display_data"
    },
    {
     "name": "stdout",
     "output_type": "stream",
     "text": [
      "Result\n"
     ]
    },
    {
     "data": {
      "text/latex": [
       "$\\displaystyle - \\frac{\\alpha \\kappa_{ad} \\frac{\\partial}{\\partial \\alpha} Q{\\left(\\alpha,\\alpha^{*},\\beta,\\beta^{*} \\right)}}{4} - \\frac{\\alpha^{*} \\kappa_{ad} \\frac{\\partial}{\\partial \\alpha^{*}} Q{\\left(\\alpha,\\alpha^{*},\\beta,\\beta^{*} \\right)}}{4} - \\frac{\\kappa_{ad} Q{\\left(\\alpha,\\alpha^{*},\\beta,\\beta^{*} \\right)}}{2}$"
      ],
      "text/plain": [
       "-\\alpha*\\kappa_{ad}*Derivative(Q(\\alpha, \\alpha^*, \\beta, \\beta^*), \\alpha)/4 - \\alpha^**\\kappa_{ad}*Derivative(Q(\\alpha, \\alpha^*, \\beta, \\beta^*), \\alpha^*)/4 - \\kappa_{ad}*Q(\\alpha, \\alpha^*, \\beta, \\beta^*)/2"
      ]
     },
     "metadata": {},
     "output_type": "display_data"
    }
   ],
   "source": [
    "myQ= PhaseSpaceFunction(ME,'Q')\n",
    "Q_eqn = myQ.getFPfromME()\n",
    "print('Result')\n",
    "display(expand(Q_eqn))"
   ]
  },
  {
   "cell_type": "markdown",
   "metadata": {
    "id": "qHR5MwXSD-zc"
   },
   "source": [
    "P representation"
   ]
  },
  {
   "cell_type": "code",
   "execution_count": 11,
   "metadata": {
    "colab": {
     "base_uri": "https://localhost:8080/",
     "height": 921
    },
    "executionInfo": {
     "elapsed": 741,
     "status": "ok",
     "timestamp": 1668157108649,
     "user": {
      "displayName": "Debbie Eeltink",
      "userId": "06060535786777641520"
     },
     "user_tz": -60
    },
    "id": "o9G2U-kfD_z-",
    "outputId": "dc732157-853a-4cc5-c601-ce91b286d4a5"
   },
   "outputs": [
    {
     "data": {
      "text/plain": [
       "(\\kappa_{ad}*a^\\dag*\\rho*a/2,\n",
       " -\\kappa_{ad}*\\rho*a*a^\\dag/4,\n",
       " -\\kappa_{ad}*a*a^\\dag*\\rho/4)"
      ]
     },
     "metadata": {},
     "output_type": "display_data"
    },
    {
     "data": {
      "text/latex": [
       "$\\displaystyle \\frac{\\kappa_{ad} a^{\\dag} \\rho a}{2}$"
      ],
      "text/plain": [
       "\\kappa_{ad}*a^\\dag*\\rho*a/2"
      ]
     },
     "metadata": {},
     "output_type": "display_data"
    },
    {
     "data": {
      "text/latex": [
       "$\\displaystyle a^{\\dag} \\rho a$"
      ],
      "text/plain": [
       "a^\\dag*\\rho*a"
      ]
     },
     "metadata": {},
     "output_type": "display_data"
    },
    {
     "data": {
      "text/latex": [
       "$\\displaystyle a^{\\dag} a$"
      ],
      "text/plain": [
       "a^\\dag*a"
      ]
     },
     "metadata": {},
     "output_type": "display_data"
    },
    {
     "name": "stdout",
     "output_type": "stream",
     "text": [
      "(a^\\dag, \\rho, a)\n",
      "1\n",
      "rho occurs on position  1\n",
      "j=\n",
      "0\n",
      "Term 0 :\n",
      "ops left in mid term, order operators applied:\n",
      "[a^\\dag]\n"
     ]
    },
    {
     "data": {
      "text/latex": [
       "$\\displaystyle P{\\left(\\alpha,\\alpha^{*},\\beta,\\beta^{*} \\right)}$"
      ],
      "text/plain": [
       "P(\\alpha, \\alpha^*, \\beta, \\beta^*)"
      ]
     },
     "metadata": {},
     "output_type": "display_data"
    },
    {
     "data": {
      "text/latex": [
       "$\\displaystyle \\alpha^{*} P{\\left(\\alpha,\\alpha^{*},\\beta,\\beta^{*} \\right)} - \\frac{\\partial}{\\partial \\alpha} P{\\left(\\alpha,\\alpha^{*},\\beta,\\beta^{*} \\right)}$"
      ],
      "text/plain": [
       "\\alpha^**P(\\alpha, \\alpha^*, \\beta, \\beta^*) - Derivative(P(\\alpha, \\alpha^*, \\beta, \\beta^*), \\alpha)"
      ]
     },
     "metadata": {},
     "output_type": "display_data"
    },
    {
     "name": "stdout",
     "output_type": "stream",
     "text": [
      "j=\n",
      "1\n",
      "Term 1 :\n",
      "ops right in mid term, order operators applied:\n",
      "[a]\n"
     ]
    },
    {
     "data": {
      "text/latex": [
       "$\\displaystyle \\alpha^{*} P{\\left(\\alpha,\\alpha^{*},\\beta,\\beta^{*} \\right)} - \\frac{\\partial}{\\partial \\alpha} P{\\left(\\alpha,\\alpha^{*},\\beta,\\beta^{*} \\right)}$"
      ],
      "text/plain": [
       "\\alpha^**P(\\alpha, \\alpha^*, \\beta, \\beta^*) - Derivative(P(\\alpha, \\alpha^*, \\beta, \\beta^*), \\alpha)"
      ]
     },
     "metadata": {},
     "output_type": "display_data"
    },
    {
     "data": {
      "text/latex": [
       "$\\displaystyle \\alpha \\left(\\alpha^{*} P{\\left(\\alpha,\\alpha^{*},\\beta,\\beta^{*} \\right)} - \\frac{\\partial}{\\partial \\alpha} P{\\left(\\alpha,\\alpha^{*},\\beta,\\beta^{*} \\right)}\\right) - \\alpha^{*} \\frac{\\partial}{\\partial \\alpha^{*}} P{\\left(\\alpha,\\alpha^{*},\\beta,\\beta^{*} \\right)} - P{\\left(\\alpha,\\alpha^{*},\\beta,\\beta^{*} \\right)} + \\frac{\\partial^{2}}{\\partial \\alpha^{*}\\partial \\alpha} P{\\left(\\alpha,\\alpha^{*},\\beta,\\beta^{*} \\right)}$"
      ],
      "text/plain": [
       "\\alpha*(\\alpha^**P(\\alpha, \\alpha^*, \\beta, \\beta^*) - Derivative(P(\\alpha, \\alpha^*, \\beta, \\beta^*), \\alpha)) - \\alpha^**Derivative(P(\\alpha, \\alpha^*, \\beta, \\beta^*), \\alpha^*) - P(\\alpha, \\alpha^*, \\beta, \\beta^*) + Derivative(P(\\alpha, \\alpha^*, \\beta, \\beta^*), \\alpha, \\alpha^*)"
      ]
     },
     "metadata": {},
     "output_type": "display_data"
    },
    {
     "name": "stdout",
     "output_type": "stream",
     "text": [
      "Term 1 :\n",
      "ops right in mid term, order operators applied:\n",
      "[[a^\\dag], [a]]\n"
     ]
    },
    {
     "data": {
      "text/latex": [
       "$\\displaystyle \\frac{\\kappa_{ad} \\left(\\alpha \\left(\\alpha^{*} P{\\left(\\alpha,\\alpha^{*},\\beta,\\beta^{*} \\right)} - \\frac{\\partial}{\\partial \\alpha} P{\\left(\\alpha,\\alpha^{*},\\beta,\\beta^{*} \\right)}\\right) - \\alpha^{*} \\frac{\\partial}{\\partial \\alpha^{*}} P{\\left(\\alpha,\\alpha^{*},\\beta,\\beta^{*} \\right)} - P{\\left(\\alpha,\\alpha^{*},\\beta,\\beta^{*} \\right)} + \\frac{\\partial^{2}}{\\partial \\alpha^{*}\\partial \\alpha} P{\\left(\\alpha,\\alpha^{*},\\beta,\\beta^{*} \\right)}\\right)}{2}$"
      ],
      "text/plain": [
       "\\kappa_{ad}*(\\alpha*(\\alpha^**P(\\alpha, \\alpha^*, \\beta, \\beta^*) - Derivative(P(\\alpha, \\alpha^*, \\beta, \\beta^*), \\alpha)) - \\alpha^**Derivative(P(\\alpha, \\alpha^*, \\beta, \\beta^*), \\alpha^*) - P(\\alpha, \\alpha^*, \\beta, \\beta^*) + Derivative(P(\\alpha, \\alpha^*, \\beta, \\beta^*), \\alpha, \\alpha^*))/2"
      ]
     },
     "metadata": {},
     "output_type": "display_data"
    },
    {
     "data": {
      "text/latex": [
       "$\\displaystyle - \\frac{\\kappa_{ad} \\rho a a^{\\dag}}{4}$"
      ],
      "text/plain": [
       "-\\kappa_{ad}*\\rho*a*a^\\dag/4"
      ]
     },
     "metadata": {},
     "output_type": "display_data"
    },
    {
     "data": {
      "text/latex": [
       "$\\displaystyle \\rho a a^{\\dag}$"
      ],
      "text/plain": [
       "\\rho*a*a^\\dag"
      ]
     },
     "metadata": {},
     "output_type": "display_data"
    },
    {
     "data": {
      "text/latex": [
       "$\\displaystyle a a^{\\dag}$"
      ],
      "text/plain": [
       "a*a^\\dag"
      ]
     },
     "metadata": {},
     "output_type": "display_data"
    },
    {
     "name": "stdout",
     "output_type": "stream",
     "text": [
      "Term 1 :\n",
      "RHS term, order operators applied:\n",
      "[a, a^\\dag]\n"
     ]
    },
    {
     "data": {
      "text/latex": [
       "$\\displaystyle - \\frac{\\alpha^{*} \\kappa_{ad} \\left(\\alpha P{\\left(\\alpha,\\alpha^{*},\\beta,\\beta^{*} \\right)} - \\frac{\\partial}{\\partial \\alpha^{*}} P{\\left(\\alpha,\\alpha^{*},\\beta,\\beta^{*} \\right)}\\right)}{4}$"
      ],
      "text/plain": [
       "-\\alpha^**\\kappa_{ad}*(\\alpha*P(\\alpha, \\alpha^*, \\beta, \\beta^*) - Derivative(P(\\alpha, \\alpha^*, \\beta, \\beta^*), \\alpha^*))/4"
      ]
     },
     "metadata": {},
     "output_type": "display_data"
    },
    {
     "data": {
      "text/latex": [
       "$\\displaystyle - \\frac{\\kappa_{ad} a a^{\\dag} \\rho}{4}$"
      ],
      "text/plain": [
       "-\\kappa_{ad}*a*a^\\dag*\\rho/4"
      ]
     },
     "metadata": {},
     "output_type": "display_data"
    },
    {
     "data": {
      "text/latex": [
       "$\\displaystyle a a^{\\dag} \\rho$"
      ],
      "text/plain": [
       "a*a^\\dag*\\rho"
      ]
     },
     "metadata": {},
     "output_type": "display_data"
    },
    {
     "data": {
      "text/latex": [
       "$\\displaystyle a a^{\\dag}$"
      ],
      "text/plain": [
       "a*a^\\dag"
      ]
     },
     "metadata": {},
     "output_type": "display_data"
    },
    {
     "name": "stdout",
     "output_type": "stream",
     "text": [
      "Term 2 :\n",
      "LHS term, order operators applied:\n",
      "[a^\\dag, a]\n"
     ]
    },
    {
     "data": {
      "text/latex": [
       "$\\displaystyle - \\frac{\\alpha \\kappa_{ad} \\left(\\alpha^{*} P{\\left(\\alpha,\\alpha^{*},\\beta,\\beta^{*} \\right)} - \\frac{\\partial}{\\partial \\alpha} P{\\left(\\alpha,\\alpha^{*},\\beta,\\beta^{*} \\right)}\\right)}{4}$"
      ],
      "text/plain": [
       "-\\alpha*\\kappa_{ad}*(\\alpha^**P(\\alpha, \\alpha^*, \\beta, \\beta^*) - Derivative(P(\\alpha, \\alpha^*, \\beta, \\beta^*), \\alpha))/4"
      ]
     },
     "metadata": {},
     "output_type": "display_data"
    },
    {
     "name": "stdout",
     "output_type": "stream",
     "text": [
      "Result\n"
     ]
    },
    {
     "data": {
      "text/latex": [
       "$\\displaystyle - \\frac{\\alpha \\kappa_{ad} \\frac{\\partial}{\\partial \\alpha} P{\\left(\\alpha,\\alpha^{*},\\beta,\\beta^{*} \\right)}}{4} - \\frac{\\alpha^{*} \\kappa_{ad} \\frac{\\partial}{\\partial \\alpha^{*}} P{\\left(\\alpha,\\alpha^{*},\\beta,\\beta^{*} \\right)}}{4} - \\frac{\\kappa_{ad} P{\\left(\\alpha,\\alpha^{*},\\beta,\\beta^{*} \\right)}}{2} + \\frac{\\kappa_{ad} \\frac{\\partial^{2}}{\\partial \\alpha^{*}\\partial \\alpha} P{\\left(\\alpha,\\alpha^{*},\\beta,\\beta^{*} \\right)}}{2}$"
      ],
      "text/plain": [
       "-\\alpha*\\kappa_{ad}*Derivative(P(\\alpha, \\alpha^*, \\beta, \\beta^*), \\alpha)/4 - \\alpha^**\\kappa_{ad}*Derivative(P(\\alpha, \\alpha^*, \\beta, \\beta^*), \\alpha^*)/4 - \\kappa_{ad}*P(\\alpha, \\alpha^*, \\beta, \\beta^*)/2 + \\kappa_{ad}*Derivative(P(\\alpha, \\alpha^*, \\beta, \\beta^*), \\alpha, \\alpha^*)/2"
      ]
     },
     "metadata": {},
     "output_type": "display_data"
    }
   ],
   "source": [
    "myP= PhaseSpaceFunction(ME,'P')\n",
    "P_eqn = myP.getFPfromME()\n",
    "print('Result')\n",
    "display(expand(P_eqn))"
   ]
  },
  {
   "cell_type": "markdown",
   "metadata": {
    "id": "W9fpoBpI5-WX"
   },
   "source": [
    "# Separate Real and imaginary Parts Wigner"
   ]
  },
  {
   "cell_type": "markdown",
   "metadata": {},
   "source": [
    "## Not working for now, use mathematica file instead"
   ]
  },
  {
   "cell_type": "code",
   "execution_count": 12,
   "metadata": {
    "colab": {
     "base_uri": "https://localhost:8080/",
     "height": 392
    },
    "executionInfo": {
     "elapsed": 248,
     "status": "ok",
     "timestamp": 1668157918226,
     "user": {
      "displayName": "Debbie Eeltink",
      "userId": "06060535786777641520"
     },
     "user_tz": -60
    },
    "id": "wlp6_pKR6BeA",
    "outputId": "7c72ad00-0be4-45c9-ca4a-bbeba87e47ac"
   },
   "outputs": [
    {
     "data": {
      "text/latex": [
       "$\\displaystyle - \\frac{\\alpha \\kappa_{ad} \\frac{\\partial}{\\partial \\alpha} W{\\left(\\alpha,\\alpha^{*},\\beta,\\beta^{*} \\right)}}{4} - \\frac{\\alpha^{*} \\kappa_{ad} \\frac{\\partial}{\\partial \\alpha^{*}} W{\\left(\\alpha,\\alpha^{*},\\beta,\\beta^{*} \\right)}}{4} - \\frac{\\kappa_{ad} W{\\left(\\alpha,\\alpha^{*},\\beta,\\beta^{*} \\right)}}{2} + \\frac{\\kappa_{ad} \\frac{\\partial^{2}}{\\partial \\alpha^{*}\\partial \\alpha} W{\\left(\\alpha,\\alpha^{*},\\beta,\\beta^{*} \\right)}}{4}$"
      ],
      "text/plain": [
       "-\\alpha*\\kappa_{ad}*Derivative(W(\\alpha, \\alpha^*, \\beta, \\beta^*), \\alpha)/4 - \\alpha^**\\kappa_{ad}*Derivative(W(\\alpha, \\alpha^*, \\beta, \\beta^*), \\alpha^*)/4 - \\kappa_{ad}*W(\\alpha, \\alpha^*, \\beta, \\beta^*)/2 + \\kappa_{ad}*Derivative(W(\\alpha, \\alpha^*, \\beta, \\beta^*), \\alpha, \\alpha^*)/4"
      ]
     },
     "metadata": {},
     "output_type": "display_data"
    },
    {
     "data": {
      "text/latex": [
       "$\\displaystyle - \\frac{\\alpha \\kappa_{ad} \\frac{\\partial}{\\partial \\alpha} W{\\left(\\alpha,\\alpha^{*},\\beta,- i b_{I} + b_{R} \\right)}}{4} - \\frac{\\alpha^{*} \\kappa_{ad} \\frac{\\partial}{\\partial \\alpha^{*}} W{\\left(\\alpha,\\alpha^{*},\\beta,- i b_{I} + b_{R} \\right)}}{4} - \\frac{\\kappa_{ad} W{\\left(\\alpha,\\alpha^{*},\\beta,- i b_{I} + b_{R} \\right)}}{2} + \\frac{\\kappa_{ad} \\frac{\\partial^{2}}{\\partial \\alpha^{*}\\partial \\alpha} W{\\left(\\alpha,\\alpha^{*},\\beta,- i b_{I} + b_{R} \\right)}}{4}$"
      ],
      "text/plain": [
       "-\\alpha*\\kappa_{ad}*Derivative(W(\\alpha, \\alpha^*, \\beta, -I*b_I + b_R), \\alpha)/4 - \\alpha^**\\kappa_{ad}*Derivative(W(\\alpha, \\alpha^*, \\beta, -I*b_I + b_R), \\alpha^*)/4 - \\kappa_{ad}*W(\\alpha, \\alpha^*, \\beta, -I*b_I + b_R)/2 + \\kappa_{ad}*Derivative(W(\\alpha, \\alpha^*, \\beta, -I*b_I + b_R), \\alpha, \\alpha^*)/4"
      ]
     },
     "metadata": {},
     "output_type": "display_data"
    },
    {
     "data": {
      "text/latex": [
       "$\\displaystyle - \\frac{\\operatorname{re}{\\left(\\kappa_{ad} W{\\left(\\alpha,\\alpha^{*},\\beta,\\beta^{*} \\right)}\\right)}}{2} + \\frac{\\operatorname{re}{\\left(\\kappa_{ad} \\frac{\\partial^{2}}{\\partial \\alpha^{*}\\partial \\alpha} W{\\left(\\alpha,\\alpha^{*},\\beta,\\beta^{*} \\right)}\\right)}}{4} - \\frac{\\operatorname{re}{\\left(\\alpha \\kappa_{ad} \\frac{\\partial}{\\partial \\alpha} W{\\left(\\alpha,\\alpha^{*},\\beta,\\beta^{*} \\right)}\\right)}}{4} - \\frac{\\operatorname{re}{\\left(\\alpha^{*} \\kappa_{ad} \\frac{\\partial}{\\partial \\alpha^{*}} W{\\left(\\alpha,\\alpha^{*},\\beta,\\beta^{*} \\right)}\\right)}}{4}$"
      ],
      "text/plain": [
       "-re(\\kappa_{ad}*W(\\alpha, \\alpha^*, \\beta, \\beta^*))/2 + re(\\kappa_{ad}*Derivative(W(\\alpha, \\alpha^*, \\beta, \\beta^*), \\alpha, \\alpha^*))/4 - re(\\alpha*\\kappa_{ad}*Derivative(W(\\alpha, \\alpha^*, \\beta, \\beta^*), \\alpha))/4 - re(\\alpha^**\\kappa_{ad}*Derivative(W(\\alpha, \\alpha^*, \\beta, \\beta^*), \\alpha^*))/4"
      ]
     },
     "metadata": {},
     "output_type": "display_data"
    }
   ],
   "source": [
    "W_exp_comp = expand(W_eqn)\n",
    "display(W_exp_comp)\n",
    "\n",
    "# redefine symbols in original equation (not so nice that this has to be repeated but okay)\n",
    "\n",
    "#field = Function('W')(alpha,self.alphas,self.beta,self.betas) # can be W, Q or P\n",
    "alpha = Symbol(r'\\alpha', commutative=True)\n",
    "alphas = Symbol(r'\\alpha^*', commutative=True)\n",
    "beta = Symbol(r'\\beta', commutative=True)\n",
    "betas = Symbol(r'\\beta^*', commutative=True)\n",
    "\n",
    "# define real and imag parts:\n",
    "alpha_r = Symbol(r'a_R', commutative=True)\n",
    "alpha_i = Symbol(r'a_I', commutative=True)\n",
    "beta_r = Symbol(r'b_R', commutative=True)\n",
    "beta_i = Symbol(r'b_I', commutative=True)\n",
    "\n",
    "# substitute in expression\n",
    "W_exp_comp_sep =W_exp_comp.subs(alpha, alpha_r+sympy.I*alpha_i )\n",
    "W_exp_comp_sep =W_exp_comp.subs(alphas, alpha_r-sympy.I*alpha_i )\n",
    "W_exp_comp_sep = W_exp_comp.subs(beta, beta_r+sympy.I*beta_i )\n",
    "W_exp_comp_sep = W_exp_comp.subs(betas, beta_r-sympy.I*beta_i )\n",
    "\n",
    "display(W_exp_comp_sep)\n",
    "W_exp_Re = re(W_exp_comp)\n",
    "display(W_exp_Re)"
   ]
  },
  {
   "cell_type": "code",
   "execution_count": 13,
   "metadata": {},
   "outputs": [
    {
     "data": {
      "text/plain": [
       "{W(\\alpha, \\alpha^*, \\beta, \\beta^*)}"
      ]
     },
     "execution_count": 13,
     "metadata": {},
     "output_type": "execute_result"
    }
   ],
   "source": [
    "W_exp_comp = expand(W_eqn)\n",
    "W_exp_comp.atoms()\n",
    "W_exp_comp.atoms(Function)"
   ]
  },
  {
   "cell_type": "markdown",
   "metadata": {},
   "source": []
  },
  {
   "cell_type": "code",
   "execution_count": 14,
   "metadata": {},
   "outputs": [
    {
     "data": {
      "text/plain": [
       "'- \\\\frac{\\\\alpha \\\\kappa_{ad} \\\\frac{\\\\partial}{\\\\partial \\\\alpha} W{\\\\left(\\\\alpha,\\\\alpha^{*},\\\\beta,\\\\beta^{*} \\\\right)}}{4} - \\\\frac{\\\\alpha^{*} \\\\kappa_{ad} \\\\frac{\\\\partial}{\\\\partial \\\\alpha^{*}} W{\\\\left(\\\\alpha,\\\\alpha^{*},\\\\beta,\\\\beta^{*} \\\\right)}}{4} - \\\\frac{\\\\kappa_{ad} W{\\\\left(\\\\alpha,\\\\alpha^{*},\\\\beta,\\\\beta^{*} \\\\right)}}{2} + \\\\frac{\\\\kappa_{ad} \\\\frac{\\\\partial^{2}}{\\\\partial \\\\alpha^{*}\\\\partial \\\\alpha} W{\\\\left(\\\\alpha,\\\\alpha^{*},\\\\beta,\\\\beta^{*} \\\\right)}}{4}'"
      ]
     },
     "execution_count": 14,
     "metadata": {},
     "output_type": "execute_result"
    }
   ],
   "source": [
    "latex(W_exp_comp)"
   ]
  },
  {
   "cell_type": "code",
   "execution_count": null,
   "metadata": {},
   "outputs": [],
   "source": []
  }
 ],
 "metadata": {
  "colab": {
   "authorship_tag": "ABX9TyPeQMMB6ohDDipa91L7JxBW",
   "collapsed_sections": [],
   "mount_file_id": "1ncZMrByEUVfhoqqZSSMdMUfh82WN59MT",
   "provenance": [
    {
     "file_id": "1ncZMrByEUVfhoqqZSSMdMUfh82WN59MT",
     "timestamp": 1668088598945
    },
    {
     "file_id": "1fOgk97hDyU4lq9QKNjKNVbOY9e24ePIc",
     "timestamp": 1668076131951
    }
   ]
  },
  "kernelspec": {
   "display_name": "Python 3 (ipykernel)",
   "language": "python",
   "name": "python3"
  },
  "language_info": {
   "codemirror_mode": {
    "name": "ipython",
    "version": 3
   },
   "file_extension": ".py",
   "mimetype": "text/x-python",
   "name": "python",
   "nbconvert_exporter": "python",
   "pygments_lexer": "ipython3",
   "version": "3.10.6"
  }
 },
 "nbformat": 4,
 "nbformat_minor": 4
}
