{
 "cells": [
  {
   "cell_type": "code",
   "execution_count": null,
   "metadata": {
    "executionInfo": {
     "elapsed": 1356,
     "status": "ok",
     "timestamp": 1668157082689,
     "user": {
      "displayName": "Debbie Eeltink",
      "userId": "06060535786777641520"
     },
     "user_tz": -60
    },
    "id": "T_sOcNxRBSia"
   },
   "outputs": [],
   "source": [
    "from sympy.physics.quantum import Commutator, Dagger, Operator\n",
    "import sympy\n",
    "from sympy import *\n",
    "from IPython.display import display\n",
    "import numpy as np"
   ]
  },
  {
   "cell_type": "markdown",
   "metadata": {
    "id": "DhxxJs-fCCaA"
   },
   "source": [
    "# Hamiltonian"
   ]
  },
  {
   "cell_type": "markdown",
   "metadata": {
    "id": "7yzp8fy22uCW"
   },
   "source": [
    "Define operators and constants"
   ]
  },
  {
   "cell_type": "code",
   "execution_count": null,
   "metadata": {
    "executionInfo": {
     "elapsed": 11,
     "status": "ok",
     "timestamp": 1668157105160,
     "user": {
      "displayName": "Debbie Eeltink",
      "userId": "06060535786777641520"
     },
     "user_tz": -60
    },
    "id": "VDosqbTu2rTP"
   },
   "outputs": [],
   "source": [
    "U, F, delta_a, delta_b, J = symbols(r'U F \\Delta_a \\Delta_b J')\n",
    "\n",
    "a = Symbol(r'a', commutative=False)\n",
    "ad = Symbol(r'a^\\dag', commutative=False)\n",
    "b = Symbol(r'b', commutative=False)\n",
    "bd = Symbol(r'b^\\dag', commutative=False)\n",
    "\n",
    "rho = Symbol(r'\\rho', commutative=False)"
   ]
  },
  {
   "cell_type": "markdown",
   "metadata": {
    "id": "7Sk3iGz2DkyO"
   },
   "source": [
    "Construct Hamiltonian"
   ]
  },
  {
   "cell_type": "code",
   "execution_count": null,
   "metadata": {
    "colab": {
     "base_uri": "https://localhost:8080/",
     "height": 52
    },
    "executionInfo": {
     "elapsed": 11,
     "status": "ok",
     "timestamp": 1668157105161,
     "user": {
      "displayName": "Debbie Eeltink",
      "userId": "06060535786777641520"
     },
     "user_tz": -60
    },
    "id": "SoyHDYxDBg2Y",
    "outputId": "2e4a998e-5a2e-4cc7-ea1b-9f15cbf6d91f"
   },
   "outputs": [],
   "source": [
    "Ham1 = J*(ad*b+a*bd) + F*(ad+a) -delta_a*ad*a -delta_b*bd*b #Rational(1, 2)*U*ad*ad*a*a\n",
    "Ham2 = -F*(ad+a)\n",
    "Ham3 = Mul(U,ad,ad,a,a,evaluate=False)\n",
    "Ham4 = UnevaluatedExpr(Mul(Rational(1, 2)*U,ad,ad,a,a,evaluate=False))\n",
    "\n",
    "\n",
    "MyHam = Ham2\n",
    "display(MyHam)"
   ]
  },
  {
   "cell_type": "markdown",
   "metadata": {
    "id": "6zIXRGKdDeQ1"
   },
   "source": [
    "Jump operators"
   ]
  },
  {
   "cell_type": "code",
   "execution_count": null,
   "metadata": {
    "executionInfo": {
     "elapsed": 9,
     "status": "ok",
     "timestamp": 1668157105161,
     "user": {
      "displayName": "Debbie Eeltink",
      "userId": "06060535786777641520"
     },
     "user_tz": -60
    },
    "id": "ulzcYzC-DgbV"
   },
   "outputs": [],
   "source": []
  },
  {
   "cell_type": "markdown",
   "metadata": {
    "id": "i-R8qI6oCAcw"
   },
   "source": [
    "# Lindblad master equation"
   ]
  },
  {
   "cell_type": "code",
   "execution_count": null,
   "metadata": {
    "colab": {
     "base_uri": "https://localhost:8080/",
     "height": 100
    },
    "executionInfo": {
     "elapsed": 9,
     "status": "ok",
     "timestamp": 1668157105161,
     "user": {
      "displayName": "Debbie Eeltink",
      "userId": "06060535786777641520"
     },
     "user_tz": -60
    },
    "id": "vu7BnXvyHJAG",
    "outputId": "cdfc71e0-946f-441e-d13d-028af7daca19"
   },
   "outputs": [],
   "source": [
    "ME_comm = -sympy.I* (Commutator(MyHam, rho))\n",
    "display(ME_comm)\n",
    "ME= ME_comm.doit()\n",
    "#display(ME)\n",
    "ME = expand(ME)\n",
    "display(ME)"
   ]
  },
  {
   "cell_type": "code",
   "execution_count": null,
   "metadata": {
    "executionInfo": {
     "elapsed": 7,
     "status": "ok",
     "timestamp": 1668157105161,
     "user": {
      "displayName": "Debbie Eeltink",
      "userId": "06060535786777641520"
     },
     "user_tz": -60
    },
    "id": "bukvqmGbLlwt"
   },
   "outputs": [],
   "source": [
    "#ME = ad*a*rho+rho*ad*a"
   ]
  },
  {
   "cell_type": "markdown",
   "metadata": {
    "id": "mqM0V3bl20EM"
   },
   "source": [
    "# Convert to desired phase space function"
   ]
  },
  {
   "cell_type": "code",
   "execution_count": null,
   "metadata": {
    "executionInfo": {
     "elapsed": 1526,
     "status": "ok",
     "timestamp": 1668157106680,
     "user": {
      "displayName": "Debbie Eeltink",
      "userId": "06060535786777641520"
     },
     "user_tz": -60
    },
    "id": "Hir6HBza_Eh_"
   },
   "outputs": [],
   "source": [
    "from phasespaceconversion import pow_to_mul_sep2,PhaseSpaceFunction"
   ]
  },
  {
   "cell_type": "markdown",
   "metadata": {
    "id": "kvIRQoFT_CWS"
   },
   "source": [
    "Wigner"
   ]
  },
  {
   "cell_type": "code",
   "execution_count": null,
   "metadata": {
    "colab": {
     "base_uri": "https://localhost:8080/",
     "height": 1000
    },
    "executionInfo": {
     "elapsed": 1239,
     "status": "ok",
     "timestamp": 1668157107913,
     "user": {
      "displayName": "Debbie Eeltink",
      "userId": "06060535786777641520"
     },
     "user_tz": -60
    },
    "id": "5lUudx05xbY3",
    "outputId": "e04f6f9d-0a80-42c1-cb89-0a3bd4dceee5"
   },
   "outputs": [],
   "source": [
    "myWigner = PhaseSpaceFunction(ME,'W')\n",
    "W_eqn = myWigner.getFPfromME()\n",
    "print('Result')\n",
    "display(expand(W_eqn))"
   ]
  },
  {
   "cell_type": "markdown",
   "metadata": {
    "id": "qUlInw6s_QZm"
   },
   "source": [
    "HusimiQ"
   ]
  },
  {
   "cell_type": "code",
   "execution_count": null,
   "metadata": {
    "colab": {
     "base_uri": "https://localhost:8080/",
     "height": 907
    },
    "executionInfo": {
     "elapsed": 10,
     "status": "ok",
     "timestamp": 1668157107914,
     "user": {
      "displayName": "Debbie Eeltink",
      "userId": "06060535786777641520"
     },
     "user_tz": -60
    },
    "id": "dFz3ZXpp_YPX",
    "outputId": "a7daca9a-8128-4eda-82b2-d3710b876f03"
   },
   "outputs": [],
   "source": [
    "myQ= PhaseSpaceFunction(ME,'Q')\n",
    "Q_eqn = myQ.getFPfromME()\n",
    "print('Result')\n",
    "display(expand(Q_eqn))"
   ]
  },
  {
   "cell_type": "markdown",
   "metadata": {
    "id": "qHR5MwXSD-zc"
   },
   "source": [
    "P representation"
   ]
  },
  {
   "cell_type": "code",
   "execution_count": null,
   "metadata": {
    "colab": {
     "base_uri": "https://localhost:8080/",
     "height": 921
    },
    "executionInfo": {
     "elapsed": 741,
     "status": "ok",
     "timestamp": 1668157108649,
     "user": {
      "displayName": "Debbie Eeltink",
      "userId": "06060535786777641520"
     },
     "user_tz": -60
    },
    "id": "o9G2U-kfD_z-",
    "outputId": "dc732157-853a-4cc5-c601-ce91b286d4a5"
   },
   "outputs": [],
   "source": [
    "myP= PhaseSpaceFunction(ME,'P')\n",
    "P_eqn = myP.getFPfromME()\n",
    "print('Result')\n",
    "display(expand(P_eqn))"
   ]
  },
  {
   "cell_type": "markdown",
   "metadata": {
    "id": "W9fpoBpI5-WX"
   },
   "source": [
    "# Separate Real and imaginary Parts Wigner"
   ]
  },
  {
   "cell_type": "markdown",
   "metadata": {},
   "source": [
    "## Not working for now, use mathematica file instead"
   ]
  },
  {
   "cell_type": "code",
   "execution_count": null,
   "metadata": {
    "colab": {
     "base_uri": "https://localhost:8080/",
     "height": 392
    },
    "executionInfo": {
     "elapsed": 248,
     "status": "ok",
     "timestamp": 1668157918226,
     "user": {
      "displayName": "Debbie Eeltink",
      "userId": "06060535786777641520"
     },
     "user_tz": -60
    },
    "id": "wlp6_pKR6BeA",
    "outputId": "7c72ad00-0be4-45c9-ca4a-bbeba87e47ac"
   },
   "outputs": [],
   "source": [
    "W_exp_comp = expand(W_eqn)\n",
    "display(W_exp_comp)\n",
    "\n",
    "# redefine symbols in original equation (not so nice that this has to be repeated but okay)\n",
    "\n",
    "#field = Function('W')(alpha,self.alphas,self.beta,self.betas) # can be W, Q or P\n",
    "alpha = Symbol(r'\\alpha', commutative=True)\n",
    "alphas = Symbol(r'\\alpha^*', commutative=True)\n",
    "beta = Symbol(r'\\beta', commutative=True)\n",
    "betas = Symbol(r'\\beta^*', commutative=True)\n",
    "\n",
    "# define real and imag parts:\n",
    "alpha_r = Symbol(r'a_R', commutative=True)\n",
    "alpha_i = Symbol(r'a_I', commutative=True)\n",
    "beta_r = Symbol(r'b_R', commutative=True)\n",
    "beta_i = Symbol(r'b_I', commutative=True)\n",
    "\n",
    "# substitute in expression\n",
    "W_exp_comp_sep =W_exp_comp.subs(alpha, alpha_r+sympy.I*alpha_i )\n",
    "W_exp_comp_sep =W_exp_comp.subs(alphas, alpha_r-sympy.I*alpha_i )\n",
    "W_exp_comp_sep = W_exp_comp.subs(beta, beta_r+sympy.I*beta_i )\n",
    "W_exp_comp_sep = W_exp_comp.subs(betas, beta_r-sympy.I*beta_i )\n",
    "\n",
    "display(W_exp_comp_sep)\n",
    "W_exp_Re = re(W_exp_comp)\n",
    "display(W_exp_Re)"
   ]
  },
  {
   "cell_type": "code",
   "execution_count": null,
   "metadata": {},
   "outputs": [],
   "source": [
    "W_exp_comp = expand(W_eqn)\n",
    "W_exp_comp.atoms()\n",
    "W_exp_comp.atoms(Function)"
   ]
  },
  {
   "cell_type": "markdown",
   "metadata": {},
   "source": []
  },
  {
   "cell_type": "code",
   "execution_count": null,
   "metadata": {},
   "outputs": [],
   "source": []
  }
 ],
 "metadata": {
  "colab": {
   "authorship_tag": "ABX9TyPeQMMB6ohDDipa91L7JxBW",
   "collapsed_sections": [],
   "mount_file_id": "1ncZMrByEUVfhoqqZSSMdMUfh82WN59MT",
   "provenance": [
    {
     "file_id": "1ncZMrByEUVfhoqqZSSMdMUfh82WN59MT",
     "timestamp": 1668088598945
    },
    {
     "file_id": "1fOgk97hDyU4lq9QKNjKNVbOY9e24ePIc",
     "timestamp": 1668076131951
    }
   ]
  },
  "kernelspec": {
   "display_name": "Python 3 (ipykernel)",
   "language": "python",
   "name": "python3"
  },
  "language_info": {
   "codemirror_mode": {
    "name": "ipython",
    "version": 3
   },
   "file_extension": ".py",
   "mimetype": "text/x-python",
   "name": "python",
   "nbconvert_exporter": "python",
   "pygments_lexer": "ipython3",
   "version": "3.10.6"
  }
 },
 "nbformat": 4,
 "nbformat_minor": 4
}
