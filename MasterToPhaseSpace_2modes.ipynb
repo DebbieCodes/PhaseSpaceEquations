{
 "cells": [
  {
   "cell_type": "code",
   "execution_count": 1,
   "metadata": {
    "executionInfo": {
     "elapsed": 1356,
     "status": "ok",
     "timestamp": 1668157082689,
     "user": {
      "displayName": "Debbie Eeltink",
      "userId": "06060535786777641520"
     },
     "user_tz": -60
    },
    "id": "T_sOcNxRBSia"
   },
   "outputs": [],
   "source": [
    "from sympy.physics.quantum import Commutator, Dagger, Operator\n",
    "import sympy\n",
    "from sympy import *\n",
    "from IPython.display import display\n",
    "import numpy as np"
   ]
  },
  {
   "cell_type": "markdown",
   "metadata": {
    "id": "DhxxJs-fCCaA"
   },
   "source": [
    "# Hamiltonian"
   ]
  },
  {
   "cell_type": "markdown",
   "metadata": {
    "id": "7yzp8fy22uCW"
   },
   "source": [
    "Define operators and constants"
   ]
  },
  {
   "cell_type": "code",
   "execution_count": 2,
   "metadata": {
    "executionInfo": {
     "elapsed": 11,
     "status": "ok",
     "timestamp": 1668157105160,
     "user": {
      "displayName": "Debbie Eeltink",
      "userId": "06060535786777641520"
     },
     "user_tz": -60
    },
    "id": "VDosqbTu2rTP"
   },
   "outputs": [],
   "source": [
    "U, F, delta_a, delta_b, J, kappa_a = symbols(r'U F \\Delta_a \\Delta_b J \\kappa_a')\n",
    "\n",
    "a = Symbol(r'a', commutative=False)\n",
    "ad = Symbol(r'a^\\dagger', commutative=False)\n",
    "b = Symbol(r'b', commutative=False)\n",
    "bd = Symbol(r'b^\\dagger', commutative=False)\n",
    "\n",
    "rho = Symbol(r'\\rho', commutative=False)"
   ]
  },
  {
   "cell_type": "markdown",
   "metadata": {
    "id": "7Sk3iGz2DkyO"
   },
   "source": [
    "Construct Hamiltonian"
   ]
  },
  {
   "cell_type": "code",
   "execution_count": 3,
   "metadata": {
    "colab": {
     "base_uri": "https://localhost:8080/",
     "height": 52
    },
    "executionInfo": {
     "elapsed": 11,
     "status": "ok",
     "timestamp": 1668157105161,
     "user": {
      "displayName": "Debbie Eeltink",
      "userId": "06060535786777641520"
     },
     "user_tz": -60
    },
    "id": "SoyHDYxDBg2Y",
    "outputId": "2e4a998e-5a2e-4cc7-ea1b-9f15cbf6d91f"
   },
   "outputs": [
    {
     "data": {
      "text/latex": [
       "$\\displaystyle - \\Delta_{a} a^{\\dagger} a - \\Delta_{b} b^{\\dagger} b$"
      ],
      "text/plain": [
       "-\\Delta_a*a^\\dagger*a - \\Delta_b*b^\\dagger*b"
      ]
     },
     "metadata": {},
     "output_type": "display_data"
    }
   ],
   "source": [
    "Ham1 = J*(ad*b+a*bd) + F*(ad+a) -delta_a*ad*a -delta_b*bd*b #Rational(1, 2)*U*ad*ad*a*a\n",
    "Ham2 = -delta_a*ad*a -delta_b*bd*b\n",
    "Ham3 = Mul(U,ad,ad,a,a,evaluate=False)\n",
    "Ham4 = UnevaluatedExpr(Mul(Rational(1, 2)*U,ad,ad,a,a,evaluate=False))\n",
    "\n",
    "\n",
    "MyHam = Ham2\n",
    "display(MyHam)"
   ]
  },
  {
   "cell_type": "markdown",
   "metadata": {
    "id": "6zIXRGKdDeQ1"
   },
   "source": [
    "Jump operators"
   ]
  },
  {
   "cell_type": "code",
   "execution_count": 4,
   "metadata": {
    "executionInfo": {
     "elapsed": 9,
     "status": "ok",
     "timestamp": 1668157105161,
     "user": {
      "displayName": "Debbie Eeltink",
      "userId": "06060535786777641520"
     },
     "user_tz": -60
    },
    "id": "ulzcYzC-DgbV"
   },
   "outputs": [
    {
     "data": {
      "text/latex": [
       "$\\displaystyle \\kappa_{a} \\left(- \\frac{\\rho a a^{\\dagger} + a a^{\\dagger} \\rho}{2} + a^{\\dagger} \\rho a\\right)$"
      ],
      "text/plain": [
       "\\kappa_a*(-(\\rho*a*Dagger(a) + a*Dagger(a)*\\rho)/2 + Dagger(a)*\\rho*a)"
      ]
     },
     "metadata": {},
     "output_type": "display_data"
    }
   ],
   "source": [
    "\n",
    "def getJump(constant,c,rho):\n",
    "    cd = Dagger(c)\n",
    "    return UnevaluatedExpr(constant*(cd*rho*c - Rational(1, 2)*(c*cd*rho + rho*c*cd)))\n",
    "\n",
    "D1 = getJump(kappa_a,a,rho)\n",
    "display(D1)\n",
    "\n",
    "    "
   ]
  },
  {
   "cell_type": "markdown",
   "metadata": {
    "id": "i-R8qI6oCAcw"
   },
   "source": [
    "# Lindblad master equation"
   ]
  },
  {
   "cell_type": "code",
   "execution_count": 5,
   "metadata": {
    "colab": {
     "base_uri": "https://localhost:8080/",
     "height": 100
    },
    "executionInfo": {
     "elapsed": 9,
     "status": "ok",
     "timestamp": 1668157105161,
     "user": {
      "displayName": "Debbie Eeltink",
      "userId": "06060535786777641520"
     },
     "user_tz": -60
    },
    "id": "vu7BnXvyHJAG",
    "outputId": "cdfc71e0-946f-441e-d13d-028af7daca19"
   },
   "outputs": [
    {
     "data": {
      "text/latex": [
       "$\\displaystyle i \\left[\\rho,- \\Delta_{a} a^{\\dagger} a - \\Delta_{b} b^{\\dagger} b\\right] + \\kappa_{a} \\left(- \\frac{\\rho a a^{\\dagger} + a a^{\\dagger} \\rho}{2} + a^{\\dagger} \\rho a\\right)$"
      ],
      "text/plain": [
       "I*[\\rho,-\\Delta_a*a^\\dagger*a - \\Delta_b*b^\\dagger*b] + \\kappa_a*(-(\\rho*a*Dagger(a) + a*Dagger(a)*\\rho)/2 + Dagger(a)*\\rho*a)"
      ]
     },
     "metadata": {},
     "output_type": "display_data"
    },
    {
     "data": {
      "text/latex": [
       "$\\displaystyle - i \\Delta_{a} \\rho a^{\\dagger} a + i \\Delta_{a} a^{\\dagger} a \\rho - i \\Delta_{b} \\rho b^{\\dagger} b + i \\Delta_{b} b^{\\dagger} b \\rho - \\frac{\\kappa_{a} \\rho a a^{\\dagger}}{2} - \\frac{\\kappa_{a} a a^{\\dagger} \\rho}{2} + \\kappa_{a} a^{\\dagger} \\rho a$"
      ],
      "text/plain": [
       "-I*\\Delta_a*\\rho*a^\\dagger*a + I*\\Delta_a*a^\\dagger*a*\\rho - I*\\Delta_b*\\rho*b^\\dagger*b + I*\\Delta_b*b^\\dagger*b*\\rho - \\kappa_a*\\rho*a*Dagger(a)/2 - \\kappa_a*a*Dagger(a)*\\rho/2 + \\kappa_a*Dagger(a)*\\rho*a"
      ]
     },
     "metadata": {},
     "output_type": "display_data"
    }
   ],
   "source": [
    "ME_comm = -sympy.I* (Commutator(MyHam, rho))+D1\n",
    "\n",
    "display(ME_comm)\n",
    "ME= ME_comm.doit()\n",
    "#display(ME)\n",
    "ME = expand(ME)\n",
    "display(ME)"
   ]
  },
  {
   "cell_type": "code",
   "execution_count": 6,
   "metadata": {
    "executionInfo": {
     "elapsed": 7,
     "status": "ok",
     "timestamp": 1668157105161,
     "user": {
      "displayName": "Debbie Eeltink",
      "userId": "06060535786777641520"
     },
     "user_tz": -60
    },
    "id": "bukvqmGbLlwt"
   },
   "outputs": [],
   "source": [
    "#ME = ad*a*rho+rho*ad*a"
   ]
  },
  {
   "cell_type": "markdown",
   "metadata": {
    "id": "mqM0V3bl20EM"
   },
   "source": [
    "# Convert to desired phase space function"
   ]
  },
  {
   "cell_type": "code",
   "execution_count": 7,
   "metadata": {
    "executionInfo": {
     "elapsed": 1526,
     "status": "ok",
     "timestamp": 1668157106680,
     "user": {
      "displayName": "Debbie Eeltink",
      "userId": "06060535786777641520"
     },
     "user_tz": -60
    },
    "id": "Hir6HBza_Eh_"
   },
   "outputs": [],
   "source": [
    "from phasespaceconversion import pow_to_mul_sep2,PhaseSpaceFunction"
   ]
  },
  {
   "cell_type": "code",
   "execution_count": 8,
   "metadata": {},
   "outputs": [
    {
     "data": {
      "text/latex": [
       "$\\displaystyle a \\left(a^{\\dagger}\\right)^{2} \\rho a^{\\dagger}$"
      ],
      "text/plain": [
       "a*a^\\dagger**2*\\rho*a^\\dagger"
      ]
     },
     "metadata": {},
     "output_type": "display_data"
    },
    {
     "name": "stdout",
     "output_type": "stream",
     "text": [
      "(a, a^\\dagger**2, \\rho, a^\\dagger)\n",
      "(a, a^\\dagger**2, \\rho, a^\\dagger)\n",
      "1\n",
      "3\n",
      "rho occurs on position  3\n",
      "[a, a^\\dagger, a^\\dagger, a^\\dagger]\n",
      "['LHS', 'LHS', 'LHS', 'RHS']\n",
      "(a, a^\\dagger**3)\n"
     ]
    }
   ],
   "source": [
    "clean_term = a*ad*ad*rho*ad\n",
    "display(clean_term)\n",
    "clean_termNoRho =  clean_term.subs(rho,1 )\n",
    "print(clean_term.args)\n",
    "\n",
    "def getPosRho(clean_term,rho):\n",
    "    counter=0\n",
    "    items= clean_term.args\n",
    "    n_items = len(items)\n",
    "    print(items)\n",
    "    for k in range(n_items):\n",
    "        item = items[k]\n",
    "        if item==rho:\n",
    "           break    # break here\n",
    "        else:\n",
    "            [op, n] = item.as_base_exp()\n",
    "            counter = counter+n\n",
    "            print(counter)\n",
    "\n",
    "    print('rho occurs on position  {}'.format(counter))\n",
    "    return counter\n",
    "\n",
    "def labelOperators(ordered_operators, pos_rho):\n",
    "    n_operators = len(ordered_operators)\n",
    "    operator_labels = ['RHS']*n_operators\n",
    "    operator_labels[:pos_rho]=['LHS']*pos_rho\n",
    "    return operator_labels\n",
    "\n",
    "pos_rho=getPosRho(clean_term,rho)\n",
    "ordered_operators = pow_to_mul_sep2(clean_termNoRho)\n",
    "\n",
    "operator_labels=labelOperators(ordered_operators, pos_rho)\n",
    "\n",
    "print(ordered_operators)\n",
    "print(operator_labels)\n",
    "operator_labels =[] # label each individual operator in the list as RHS or LHS of Rho\n",
    "print(clean_termNoRho.args)"
   ]
  },
  {
   "cell_type": "code",
   "execution_count": null,
   "metadata": {},
   "outputs": [],
   "source": []
  },
  {
   "cell_type": "code",
   "execution_count": 9,
   "metadata": {},
   "outputs": [
    {
     "data": {
      "text/plain": [
       "[a, a^\\dagger, a^\\dagger, a^\\dagger]"
      ]
     },
     "metadata": {},
     "output_type": "display_data"
    }
   ],
   "source": [
    "ordered_operators = pow_to_mul_sep2(clean_termNoRho)\n",
    "display(ordered_operators)\n",
    "\n"
   ]
  },
  {
   "cell_type": "markdown",
   "metadata": {
    "id": "kvIRQoFT_CWS"
   },
   "source": [
    "Wigner"
   ]
  },
  {
   "cell_type": "code",
   "execution_count": 10,
   "metadata": {
    "colab": {
     "base_uri": "https://localhost:8080/",
     "height": 1000
    },
    "executionInfo": {
     "elapsed": 1239,
     "status": "ok",
     "timestamp": 1668157107913,
     "user": {
      "displayName": "Debbie Eeltink",
      "userId": "06060535786777641520"
     },
     "user_tz": -60
    },
    "id": "5lUudx05xbY3",
    "outputId": "e04f6f9d-0a80-42c1-cb89-0a3bd4dceee5"
   },
   "outputs": [
    {
     "data": {
      "text/plain": [
       "(\\kappa_a*Dagger(a)*\\rho*a,\n",
       " -\\kappa_a*\\rho*a*Dagger(a)/2,\n",
       " -\\kappa_a*a*Dagger(a)*\\rho/2,\n",
       " I*\\Delta_a*a^\\dagger*a*\\rho,\n",
       " I*\\Delta_b*b^\\dagger*b*\\rho,\n",
       " -I*\\Delta_a*\\rho*a^\\dagger*a,\n",
       " -I*\\Delta_b*\\rho*b^\\dagger*b)"
      ]
     },
     "metadata": {},
     "output_type": "display_data"
    },
    {
     "name": "stdout",
     "output_type": "stream",
     "text": [
      "Term 0 :\n"
     ]
    },
    {
     "data": {
      "text/latex": [
       "$\\displaystyle \\kappa_{a} a^{\\dagger} \\rho a$"
      ],
      "text/plain": [
       "\\kappa_a*Dagger(a)*\\rho*a"
      ]
     },
     "metadata": {},
     "output_type": "display_data"
    },
    {
     "data": {
      "text/latex": [
       "$\\displaystyle a^{\\dagger} \\rho a$"
      ],
      "text/plain": [
       "Dagger(a)*\\rho*a"
      ]
     },
     "metadata": {},
     "output_type": "display_data"
    },
    {
     "data": {
      "text/latex": [
       "$\\displaystyle a^{\\dagger} a$"
      ],
      "text/plain": [
       "Dagger(a)*a"
      ]
     },
     "metadata": {},
     "output_type": "display_data"
    },
    {
     "name": "stdout",
     "output_type": "stream",
     "text": [
      "(Dagger(a), \\rho, a)\n",
      "1\n",
      "rho occurs on position  1\n",
      "unable to determine term type\n",
      "[Dagger(a), a]\n",
      "error\n"
     ]
    },
    {
     "data": {
      "text/latex": [
       "$\\displaystyle \\kappa_{a} \\left(\\alpha W{\\left(\\alpha,\\alpha^{*},\\beta,\\beta^{*} \\right)} - \\frac{\\frac{\\partial}{\\partial \\alpha^{*}} W{\\left(\\alpha,\\alpha^{*},\\beta,\\beta^{*} \\right)}}{2}\\right)$"
      ],
      "text/plain": [
       "\\kappa_a*(\\alpha*W(\\alpha, \\alpha^*, \\beta, \\beta^*) - Derivative(W(\\alpha, \\alpha^*, \\beta, \\beta^*), \\alpha^*)/2)"
      ]
     },
     "metadata": {},
     "output_type": "display_data"
    },
    {
     "name": "stdout",
     "output_type": "stream",
     "text": [
      "Term 1 :\n"
     ]
    },
    {
     "data": {
      "text/latex": [
       "$\\displaystyle - \\frac{\\kappa_{a} \\rho a a^{\\dagger}}{2}$"
      ],
      "text/plain": [
       "-\\kappa_a*\\rho*a*Dagger(a)/2"
      ]
     },
     "metadata": {},
     "output_type": "display_data"
    },
    {
     "data": {
      "text/latex": [
       "$\\displaystyle \\rho a a^{\\dagger}$"
      ],
      "text/plain": [
       "\\rho*a*Dagger(a)"
      ]
     },
     "metadata": {},
     "output_type": "display_data"
    },
    {
     "data": {
      "text/latex": [
       "$\\displaystyle a a^{\\dagger}$"
      ],
      "text/plain": [
       "a*Dagger(a)"
      ]
     },
     "metadata": {},
     "output_type": "display_data"
    },
    {
     "name": "stdout",
     "output_type": "stream",
     "text": [
      "RHS term, order operators applied:\n",
      "[a, Dagger(a)]\n",
      "error\n"
     ]
    },
    {
     "data": {
      "text/latex": [
       "$\\displaystyle - \\frac{\\kappa_{a} \\left(\\alpha W{\\left(\\alpha,\\alpha^{*},\\beta,\\beta^{*} \\right)} - \\frac{\\frac{\\partial}{\\partial \\alpha^{*}} W{\\left(\\alpha,\\alpha^{*},\\beta,\\beta^{*} \\right)}}{2}\\right)}{2}$"
      ],
      "text/plain": [
       "-\\kappa_a*(\\alpha*W(\\alpha, \\alpha^*, \\beta, \\beta^*) - Derivative(W(\\alpha, \\alpha^*, \\beta, \\beta^*), \\alpha^*)/2)/2"
      ]
     },
     "metadata": {},
     "output_type": "display_data"
    },
    {
     "name": "stdout",
     "output_type": "stream",
     "text": [
      "Term 2 :\n"
     ]
    },
    {
     "data": {
      "text/latex": [
       "$\\displaystyle - \\frac{\\kappa_{a} a a^{\\dagger} \\rho}{2}$"
      ],
      "text/plain": [
       "-\\kappa_a*a*Dagger(a)*\\rho/2"
      ]
     },
     "metadata": {},
     "output_type": "display_data"
    },
    {
     "data": {
      "text/latex": [
       "$\\displaystyle a a^{\\dagger} \\rho$"
      ],
      "text/plain": [
       "a*Dagger(a)*\\rho"
      ]
     },
     "metadata": {},
     "output_type": "display_data"
    },
    {
     "data": {
      "text/latex": [
       "$\\displaystyle a a^{\\dagger}$"
      ],
      "text/plain": [
       "a*Dagger(a)"
      ]
     },
     "metadata": {},
     "output_type": "display_data"
    },
    {
     "name": "stdout",
     "output_type": "stream",
     "text": [
      "LHS term, order operators applied:\n",
      "[Dagger(a), a]\n",
      "error\n"
     ]
    },
    {
     "data": {
      "text/latex": [
       "$\\displaystyle - \\frac{\\kappa_{a} \\left(\\alpha W{\\left(\\alpha,\\alpha^{*},\\beta,\\beta^{*} \\right)} + \\frac{\\frac{\\partial}{\\partial \\alpha^{*}} W{\\left(\\alpha,\\alpha^{*},\\beta,\\beta^{*} \\right)}}{2}\\right)}{2}$"
      ],
      "text/plain": [
       "-\\kappa_a*(\\alpha*W(\\alpha, \\alpha^*, \\beta, \\beta^*) + Derivative(W(\\alpha, \\alpha^*, \\beta, \\beta^*), \\alpha^*)/2)/2"
      ]
     },
     "metadata": {},
     "output_type": "display_data"
    },
    {
     "name": "stdout",
     "output_type": "stream",
     "text": [
      "Term 3 :\n"
     ]
    },
    {
     "data": {
      "text/latex": [
       "$\\displaystyle i \\Delta_{a} a^{\\dagger} a \\rho$"
      ],
      "text/plain": [
       "I*\\Delta_a*a^\\dagger*a*\\rho"
      ]
     },
     "metadata": {},
     "output_type": "display_data"
    },
    {
     "data": {
      "text/latex": [
       "$\\displaystyle a \\rho$"
      ],
      "text/plain": [
       "a*\\rho"
      ]
     },
     "metadata": {},
     "output_type": "display_data"
    },
    {
     "data": {
      "text/latex": [
       "$\\displaystyle a$"
      ],
      "text/plain": [
       "a"
      ]
     },
     "metadata": {},
     "output_type": "display_data"
    },
    {
     "name": "stdout",
     "output_type": "stream",
     "text": [
      "LHS term, order operators applied:\n",
      "[a]\n"
     ]
    },
    {
     "data": {
      "text/latex": [
       "$\\displaystyle i \\Delta_{a} \\left(\\alpha W{\\left(\\alpha,\\alpha^{*},\\beta,\\beta^{*} \\right)} + \\frac{\\frac{\\partial}{\\partial \\alpha^{*}} W{\\left(\\alpha,\\alpha^{*},\\beta,\\beta^{*} \\right)}}{2}\\right) a^{\\dagger}$"
      ],
      "text/plain": [
       "I*\\Delta_a*(\\alpha*W(\\alpha, \\alpha^*, \\beta, \\beta^*) + Derivative(W(\\alpha, \\alpha^*, \\beta, \\beta^*), \\alpha^*)/2)*a^\\dagger"
      ]
     },
     "metadata": {},
     "output_type": "display_data"
    },
    {
     "name": "stdout",
     "output_type": "stream",
     "text": [
      "Term 4 :\n"
     ]
    },
    {
     "data": {
      "text/latex": [
       "$\\displaystyle i \\Delta_{b} b^{\\dagger} b \\rho$"
      ],
      "text/plain": [
       "I*\\Delta_b*b^\\dagger*b*\\rho"
      ]
     },
     "metadata": {},
     "output_type": "display_data"
    },
    {
     "data": {
      "text/latex": [
       "$\\displaystyle b \\rho$"
      ],
      "text/plain": [
       "b*\\rho"
      ]
     },
     "metadata": {},
     "output_type": "display_data"
    },
    {
     "data": {
      "text/latex": [
       "$\\displaystyle b$"
      ],
      "text/plain": [
       "b"
      ]
     },
     "metadata": {},
     "output_type": "display_data"
    },
    {
     "name": "stdout",
     "output_type": "stream",
     "text": [
      "LHS term, order operators applied:\n",
      "[b]\n"
     ]
    },
    {
     "data": {
      "text/latex": [
       "$\\displaystyle i \\Delta_{b} \\left(\\beta W{\\left(\\alpha,\\alpha^{*},\\beta,\\beta^{*} \\right)} + \\frac{\\frac{\\partial}{\\partial \\beta^{*}} W{\\left(\\alpha,\\alpha^{*},\\beta,\\beta^{*} \\right)}}{2}\\right) b^{\\dagger}$"
      ],
      "text/plain": [
       "I*\\Delta_b*(\\beta*W(\\alpha, \\alpha^*, \\beta, \\beta^*) + Derivative(W(\\alpha, \\alpha^*, \\beta, \\beta^*), \\beta^*)/2)*b^\\dagger"
      ]
     },
     "metadata": {},
     "output_type": "display_data"
    },
    {
     "name": "stdout",
     "output_type": "stream",
     "text": [
      "Term 5 :\n"
     ]
    },
    {
     "data": {
      "text/latex": [
       "$\\displaystyle - i \\Delta_{a} \\rho a^{\\dagger} a$"
      ],
      "text/plain": [
       "-I*\\Delta_a*\\rho*a^\\dagger*a"
      ]
     },
     "metadata": {},
     "output_type": "display_data"
    },
    {
     "data": {
      "text/latex": [
       "$\\displaystyle \\rho a$"
      ],
      "text/plain": [
       "\\rho*a"
      ]
     },
     "metadata": {},
     "output_type": "display_data"
    },
    {
     "data": {
      "text/latex": [
       "$\\displaystyle a$"
      ],
      "text/plain": [
       "a"
      ]
     },
     "metadata": {},
     "output_type": "display_data"
    },
    {
     "name": "stdout",
     "output_type": "stream",
     "text": [
      "RHS term, order operators applied:\n",
      "[a]\n"
     ]
    },
    {
     "data": {
      "text/latex": [
       "$\\displaystyle - i \\Delta_{a} \\left(\\alpha W{\\left(\\alpha,\\alpha^{*},\\beta,\\beta^{*} \\right)} - \\frac{\\frac{\\partial}{\\partial \\alpha^{*}} W{\\left(\\alpha,\\alpha^{*},\\beta,\\beta^{*} \\right)}}{2}\\right) a^{\\dagger}$"
      ],
      "text/plain": [
       "-I*\\Delta_a*(\\alpha*W(\\alpha, \\alpha^*, \\beta, \\beta^*) - Derivative(W(\\alpha, \\alpha^*, \\beta, \\beta^*), \\alpha^*)/2)*a^\\dagger"
      ]
     },
     "metadata": {},
     "output_type": "display_data"
    },
    {
     "name": "stdout",
     "output_type": "stream",
     "text": [
      "Term 6 :\n"
     ]
    },
    {
     "data": {
      "text/latex": [
       "$\\displaystyle - i \\Delta_{b} \\rho b^{\\dagger} b$"
      ],
      "text/plain": [
       "-I*\\Delta_b*\\rho*b^\\dagger*b"
      ]
     },
     "metadata": {},
     "output_type": "display_data"
    },
    {
     "data": {
      "text/latex": [
       "$\\displaystyle \\rho b$"
      ],
      "text/plain": [
       "\\rho*b"
      ]
     },
     "metadata": {},
     "output_type": "display_data"
    },
    {
     "data": {
      "text/latex": [
       "$\\displaystyle b$"
      ],
      "text/plain": [
       "b"
      ]
     },
     "metadata": {},
     "output_type": "display_data"
    },
    {
     "name": "stdout",
     "output_type": "stream",
     "text": [
      "RHS term, order operators applied:\n",
      "[b]\n"
     ]
    },
    {
     "data": {
      "text/latex": [
       "$\\displaystyle - i \\Delta_{b} \\left(\\beta W{\\left(\\alpha,\\alpha^{*},\\beta,\\beta^{*} \\right)} - \\frac{\\frac{\\partial}{\\partial \\beta^{*}} W{\\left(\\alpha,\\alpha^{*},\\beta,\\beta^{*} \\right)}}{2}\\right) b^{\\dagger}$"
      ],
      "text/plain": [
       "-I*\\Delta_b*(\\beta*W(\\alpha, \\alpha^*, \\beta, \\beta^*) - Derivative(W(\\alpha, \\alpha^*, \\beta, \\beta^*), \\beta^*)/2)*b^\\dagger"
      ]
     },
     "metadata": {},
     "output_type": "display_data"
    },
    {
     "name": "stdout",
     "output_type": "stream",
     "text": [
      "Result\n"
     ]
    },
    {
     "data": {
      "text/latex": [
       "$\\displaystyle i \\Delta_{a} \\frac{\\partial}{\\partial \\alpha^{*}} W{\\left(\\alpha,\\alpha^{*},\\beta,\\beta^{*} \\right)} a^{\\dagger} + i \\Delta_{b} \\frac{\\partial}{\\partial \\beta^{*}} W{\\left(\\alpha,\\alpha^{*},\\beta,\\beta^{*} \\right)} b^{\\dagger} - \\frac{\\kappa_{a} \\frac{\\partial}{\\partial \\alpha^{*}} W{\\left(\\alpha,\\alpha^{*},\\beta,\\beta^{*} \\right)}}{2}$"
      ],
      "text/plain": [
       "I*\\Delta_a*Derivative(W(\\alpha, \\alpha^*, \\beta, \\beta^*), \\alpha^*)*a^\\dagger + I*\\Delta_b*Derivative(W(\\alpha, \\alpha^*, \\beta, \\beta^*), \\beta^*)*b^\\dagger - \\kappa_a*Derivative(W(\\alpha, \\alpha^*, \\beta, \\beta^*), \\alpha^*)/2"
      ]
     },
     "metadata": {},
     "output_type": "display_data"
    }
   ],
   "source": [
    "myWigner = PhaseSpaceFunction(ME,'W')\n",
    "W_eqn = myWigner.getFPfromME()\n",
    "print('Result')\n",
    "display(expand(W_eqn))"
   ]
  },
  {
   "cell_type": "markdown",
   "metadata": {
    "id": "qUlInw6s_QZm"
   },
   "source": [
    "HusimiQ"
   ]
  },
  {
   "cell_type": "code",
   "execution_count": 11,
   "metadata": {
    "colab": {
     "base_uri": "https://localhost:8080/",
     "height": 907
    },
    "executionInfo": {
     "elapsed": 10,
     "status": "ok",
     "timestamp": 1668157107914,
     "user": {
      "displayName": "Debbie Eeltink",
      "userId": "06060535786777641520"
     },
     "user_tz": -60
    },
    "id": "dFz3ZXpp_YPX",
    "outputId": "a7daca9a-8128-4eda-82b2-d3710b876f03"
   },
   "outputs": [
    {
     "data": {
      "text/plain": [
       "(\\kappa_a*Dagger(a)*\\rho*a,\n",
       " -\\kappa_a*\\rho*a*Dagger(a)/2,\n",
       " -\\kappa_a*a*Dagger(a)*\\rho/2,\n",
       " I*\\Delta_a*a^\\dagger*a*\\rho,\n",
       " I*\\Delta_b*b^\\dagger*b*\\rho,\n",
       " -I*\\Delta_a*\\rho*a^\\dagger*a,\n",
       " -I*\\Delta_b*\\rho*b^\\dagger*b)"
      ]
     },
     "metadata": {},
     "output_type": "display_data"
    },
    {
     "name": "stdout",
     "output_type": "stream",
     "text": [
      "Term 0 :\n"
     ]
    },
    {
     "data": {
      "text/latex": [
       "$\\displaystyle \\kappa_{a} a^{\\dagger} \\rho a$"
      ],
      "text/plain": [
       "\\kappa_a*Dagger(a)*\\rho*a"
      ]
     },
     "metadata": {},
     "output_type": "display_data"
    },
    {
     "data": {
      "text/latex": [
       "$\\displaystyle a^{\\dagger} \\rho a$"
      ],
      "text/plain": [
       "Dagger(a)*\\rho*a"
      ]
     },
     "metadata": {},
     "output_type": "display_data"
    },
    {
     "data": {
      "text/latex": [
       "$\\displaystyle a^{\\dagger} a$"
      ],
      "text/plain": [
       "Dagger(a)*a"
      ]
     },
     "metadata": {},
     "output_type": "display_data"
    },
    {
     "name": "stdout",
     "output_type": "stream",
     "text": [
      "(Dagger(a), \\rho, a)\n",
      "1\n",
      "rho occurs on position  1\n",
      "unable to determine term type\n",
      "[Dagger(a), a]\n",
      "error\n"
     ]
    },
    {
     "data": {
      "text/latex": [
       "$\\displaystyle \\alpha \\kappa_{a} Q{\\left(\\alpha,\\alpha^{*},\\beta,\\beta^{*} \\right)}$"
      ],
      "text/plain": [
       "\\alpha*\\kappa_a*Q(\\alpha, \\alpha^*, \\beta, \\beta^*)"
      ]
     },
     "metadata": {},
     "output_type": "display_data"
    },
    {
     "name": "stdout",
     "output_type": "stream",
     "text": [
      "Term 1 :\n"
     ]
    },
    {
     "data": {
      "text/latex": [
       "$\\displaystyle - \\frac{\\kappa_{a} \\rho a a^{\\dagger}}{2}$"
      ],
      "text/plain": [
       "-\\kappa_a*\\rho*a*Dagger(a)/2"
      ]
     },
     "metadata": {},
     "output_type": "display_data"
    },
    {
     "data": {
      "text/latex": [
       "$\\displaystyle \\rho a a^{\\dagger}$"
      ],
      "text/plain": [
       "\\rho*a*Dagger(a)"
      ]
     },
     "metadata": {},
     "output_type": "display_data"
    },
    {
     "data": {
      "text/latex": [
       "$\\displaystyle a a^{\\dagger}$"
      ],
      "text/plain": [
       "a*Dagger(a)"
      ]
     },
     "metadata": {},
     "output_type": "display_data"
    },
    {
     "name": "stdout",
     "output_type": "stream",
     "text": [
      "RHS term, order operators applied:\n",
      "[a, Dagger(a)]\n",
      "error\n"
     ]
    },
    {
     "data": {
      "text/latex": [
       "$\\displaystyle - \\frac{\\alpha \\kappa_{a} Q{\\left(\\alpha,\\alpha^{*},\\beta,\\beta^{*} \\right)}}{2}$"
      ],
      "text/plain": [
       "-\\alpha*\\kappa_a*Q(\\alpha, \\alpha^*, \\beta, \\beta^*)/2"
      ]
     },
     "metadata": {},
     "output_type": "display_data"
    },
    {
     "name": "stdout",
     "output_type": "stream",
     "text": [
      "Term 2 :\n"
     ]
    },
    {
     "data": {
      "text/latex": [
       "$\\displaystyle - \\frac{\\kappa_{a} a a^{\\dagger} \\rho}{2}$"
      ],
      "text/plain": [
       "-\\kappa_a*a*Dagger(a)*\\rho/2"
      ]
     },
     "metadata": {},
     "output_type": "display_data"
    },
    {
     "data": {
      "text/latex": [
       "$\\displaystyle a a^{\\dagger} \\rho$"
      ],
      "text/plain": [
       "a*Dagger(a)*\\rho"
      ]
     },
     "metadata": {},
     "output_type": "display_data"
    },
    {
     "data": {
      "text/latex": [
       "$\\displaystyle a a^{\\dagger}$"
      ],
      "text/plain": [
       "a*Dagger(a)"
      ]
     },
     "metadata": {},
     "output_type": "display_data"
    },
    {
     "name": "stdout",
     "output_type": "stream",
     "text": [
      "LHS term, order operators applied:\n",
      "[Dagger(a), a]\n",
      "error\n"
     ]
    },
    {
     "data": {
      "text/latex": [
       "$\\displaystyle - \\frac{\\kappa_{a} \\left(\\alpha Q{\\left(\\alpha,\\alpha^{*},\\beta,\\beta^{*} \\right)} + \\frac{\\partial}{\\partial \\alpha^{*}} Q{\\left(\\alpha,\\alpha^{*},\\beta,\\beta^{*} \\right)}\\right)}{2}$"
      ],
      "text/plain": [
       "-\\kappa_a*(\\alpha*Q(\\alpha, \\alpha^*, \\beta, \\beta^*) + Derivative(Q(\\alpha, \\alpha^*, \\beta, \\beta^*), \\alpha^*))/2"
      ]
     },
     "metadata": {},
     "output_type": "display_data"
    },
    {
     "name": "stdout",
     "output_type": "stream",
     "text": [
      "Term 3 :\n"
     ]
    },
    {
     "data": {
      "text/latex": [
       "$\\displaystyle i \\Delta_{a} a^{\\dagger} a \\rho$"
      ],
      "text/plain": [
       "I*\\Delta_a*a^\\dagger*a*\\rho"
      ]
     },
     "metadata": {},
     "output_type": "display_data"
    },
    {
     "data": {
      "text/latex": [
       "$\\displaystyle a \\rho$"
      ],
      "text/plain": [
       "a*\\rho"
      ]
     },
     "metadata": {},
     "output_type": "display_data"
    },
    {
     "data": {
      "text/latex": [
       "$\\displaystyle a$"
      ],
      "text/plain": [
       "a"
      ]
     },
     "metadata": {},
     "output_type": "display_data"
    },
    {
     "name": "stdout",
     "output_type": "stream",
     "text": [
      "LHS term, order operators applied:\n",
      "[a]\n"
     ]
    },
    {
     "data": {
      "text/latex": [
       "$\\displaystyle i \\Delta_{a} \\left(\\alpha Q{\\left(\\alpha,\\alpha^{*},\\beta,\\beta^{*} \\right)} + \\frac{\\partial}{\\partial \\alpha^{*}} Q{\\left(\\alpha,\\alpha^{*},\\beta,\\beta^{*} \\right)}\\right) a^{\\dagger}$"
      ],
      "text/plain": [
       "I*\\Delta_a*(\\alpha*Q(\\alpha, \\alpha^*, \\beta, \\beta^*) + Derivative(Q(\\alpha, \\alpha^*, \\beta, \\beta^*), \\alpha^*))*a^\\dagger"
      ]
     },
     "metadata": {},
     "output_type": "display_data"
    },
    {
     "name": "stdout",
     "output_type": "stream",
     "text": [
      "Term 4 :\n"
     ]
    },
    {
     "data": {
      "text/latex": [
       "$\\displaystyle i \\Delta_{b} b^{\\dagger} b \\rho$"
      ],
      "text/plain": [
       "I*\\Delta_b*b^\\dagger*b*\\rho"
      ]
     },
     "metadata": {},
     "output_type": "display_data"
    },
    {
     "data": {
      "text/latex": [
       "$\\displaystyle b \\rho$"
      ],
      "text/plain": [
       "b*\\rho"
      ]
     },
     "metadata": {},
     "output_type": "display_data"
    },
    {
     "data": {
      "text/latex": [
       "$\\displaystyle b$"
      ],
      "text/plain": [
       "b"
      ]
     },
     "metadata": {},
     "output_type": "display_data"
    },
    {
     "name": "stdout",
     "output_type": "stream",
     "text": [
      "LHS term, order operators applied:\n",
      "[b]\n"
     ]
    },
    {
     "data": {
      "text/latex": [
       "$\\displaystyle i \\Delta_{b} \\left(\\beta Q{\\left(\\alpha,\\alpha^{*},\\beta,\\beta^{*} \\right)} + \\frac{\\partial}{\\partial \\beta^{*}} Q{\\left(\\alpha,\\alpha^{*},\\beta,\\beta^{*} \\right)}\\right) b^{\\dagger}$"
      ],
      "text/plain": [
       "I*\\Delta_b*(\\beta*Q(\\alpha, \\alpha^*, \\beta, \\beta^*) + Derivative(Q(\\alpha, \\alpha^*, \\beta, \\beta^*), \\beta^*))*b^\\dagger"
      ]
     },
     "metadata": {},
     "output_type": "display_data"
    },
    {
     "name": "stdout",
     "output_type": "stream",
     "text": [
      "Term 5 :\n"
     ]
    },
    {
     "data": {
      "text/latex": [
       "$\\displaystyle - i \\Delta_{a} \\rho a^{\\dagger} a$"
      ],
      "text/plain": [
       "-I*\\Delta_a*\\rho*a^\\dagger*a"
      ]
     },
     "metadata": {},
     "output_type": "display_data"
    },
    {
     "data": {
      "text/latex": [
       "$\\displaystyle \\rho a$"
      ],
      "text/plain": [
       "\\rho*a"
      ]
     },
     "metadata": {},
     "output_type": "display_data"
    },
    {
     "data": {
      "text/latex": [
       "$\\displaystyle a$"
      ],
      "text/plain": [
       "a"
      ]
     },
     "metadata": {},
     "output_type": "display_data"
    },
    {
     "name": "stdout",
     "output_type": "stream",
     "text": [
      "RHS term, order operators applied:\n",
      "[a]\n"
     ]
    },
    {
     "data": {
      "text/latex": [
       "$\\displaystyle - i \\Delta_{a} \\alpha Q{\\left(\\alpha,\\alpha^{*},\\beta,\\beta^{*} \\right)} a^{\\dagger}$"
      ],
      "text/plain": [
       "-I*\\Delta_a*\\alpha*Q(\\alpha, \\alpha^*, \\beta, \\beta^*)*a^\\dagger"
      ]
     },
     "metadata": {},
     "output_type": "display_data"
    },
    {
     "name": "stdout",
     "output_type": "stream",
     "text": [
      "Term 6 :\n"
     ]
    },
    {
     "data": {
      "text/latex": [
       "$\\displaystyle - i \\Delta_{b} \\rho b^{\\dagger} b$"
      ],
      "text/plain": [
       "-I*\\Delta_b*\\rho*b^\\dagger*b"
      ]
     },
     "metadata": {},
     "output_type": "display_data"
    },
    {
     "data": {
      "text/latex": [
       "$\\displaystyle \\rho b$"
      ],
      "text/plain": [
       "\\rho*b"
      ]
     },
     "metadata": {},
     "output_type": "display_data"
    },
    {
     "data": {
      "text/latex": [
       "$\\displaystyle b$"
      ],
      "text/plain": [
       "b"
      ]
     },
     "metadata": {},
     "output_type": "display_data"
    },
    {
     "name": "stdout",
     "output_type": "stream",
     "text": [
      "RHS term, order operators applied:\n",
      "[b]\n"
     ]
    },
    {
     "data": {
      "text/latex": [
       "$\\displaystyle - i \\Delta_{b} \\beta Q{\\left(\\alpha,\\alpha^{*},\\beta,\\beta^{*} \\right)} b^{\\dagger}$"
      ],
      "text/plain": [
       "-I*\\Delta_b*\\beta*Q(\\alpha, \\alpha^*, \\beta, \\beta^*)*b^\\dagger"
      ]
     },
     "metadata": {},
     "output_type": "display_data"
    },
    {
     "name": "stdout",
     "output_type": "stream",
     "text": [
      "Result\n"
     ]
    },
    {
     "data": {
      "text/latex": [
       "$\\displaystyle i \\Delta_{a} \\frac{\\partial}{\\partial \\alpha^{*}} Q{\\left(\\alpha,\\alpha^{*},\\beta,\\beta^{*} \\right)} a^{\\dagger} + i \\Delta_{b} \\frac{\\partial}{\\partial \\beta^{*}} Q{\\left(\\alpha,\\alpha^{*},\\beta,\\beta^{*} \\right)} b^{\\dagger} - \\frac{\\kappa_{a} \\frac{\\partial}{\\partial \\alpha^{*}} Q{\\left(\\alpha,\\alpha^{*},\\beta,\\beta^{*} \\right)}}{2}$"
      ],
      "text/plain": [
       "I*\\Delta_a*Derivative(Q(\\alpha, \\alpha^*, \\beta, \\beta^*), \\alpha^*)*a^\\dagger + I*\\Delta_b*Derivative(Q(\\alpha, \\alpha^*, \\beta, \\beta^*), \\beta^*)*b^\\dagger - \\kappa_a*Derivative(Q(\\alpha, \\alpha^*, \\beta, \\beta^*), \\alpha^*)/2"
      ]
     },
     "metadata": {},
     "output_type": "display_data"
    }
   ],
   "source": [
    "myQ= PhaseSpaceFunction(ME,'Q')\n",
    "Q_eqn = myQ.getFPfromME()\n",
    "print('Result')\n",
    "display(expand(Q_eqn))"
   ]
  },
  {
   "cell_type": "markdown",
   "metadata": {
    "id": "qHR5MwXSD-zc"
   },
   "source": [
    "P representation"
   ]
  },
  {
   "cell_type": "code",
   "execution_count": 12,
   "metadata": {
    "colab": {
     "base_uri": "https://localhost:8080/",
     "height": 921
    },
    "executionInfo": {
     "elapsed": 741,
     "status": "ok",
     "timestamp": 1668157108649,
     "user": {
      "displayName": "Debbie Eeltink",
      "userId": "06060535786777641520"
     },
     "user_tz": -60
    },
    "id": "o9G2U-kfD_z-",
    "outputId": "dc732157-853a-4cc5-c601-ce91b286d4a5"
   },
   "outputs": [
    {
     "data": {
      "text/plain": [
       "(\\kappa_a*Dagger(a)*\\rho*a,\n",
       " -\\kappa_a*\\rho*a*Dagger(a)/2,\n",
       " -\\kappa_a*a*Dagger(a)*\\rho/2,\n",
       " I*\\Delta_a*a^\\dagger*a*\\rho,\n",
       " I*\\Delta_b*b^\\dagger*b*\\rho,\n",
       " -I*\\Delta_a*\\rho*a^\\dagger*a,\n",
       " -I*\\Delta_b*\\rho*b^\\dagger*b)"
      ]
     },
     "metadata": {},
     "output_type": "display_data"
    },
    {
     "name": "stdout",
     "output_type": "stream",
     "text": [
      "Term 0 :\n"
     ]
    },
    {
     "data": {
      "text/latex": [
       "$\\displaystyle \\kappa_{a} a^{\\dagger} \\rho a$"
      ],
      "text/plain": [
       "\\kappa_a*Dagger(a)*\\rho*a"
      ]
     },
     "metadata": {},
     "output_type": "display_data"
    },
    {
     "data": {
      "text/latex": [
       "$\\displaystyle a^{\\dagger} \\rho a$"
      ],
      "text/plain": [
       "Dagger(a)*\\rho*a"
      ]
     },
     "metadata": {},
     "output_type": "display_data"
    },
    {
     "data": {
      "text/latex": [
       "$\\displaystyle a^{\\dagger} a$"
      ],
      "text/plain": [
       "Dagger(a)*a"
      ]
     },
     "metadata": {},
     "output_type": "display_data"
    },
    {
     "name": "stdout",
     "output_type": "stream",
     "text": [
      "(Dagger(a), \\rho, a)\n",
      "1\n",
      "rho occurs on position  1\n",
      "unable to determine term type\n",
      "[Dagger(a), a]\n",
      "error\n"
     ]
    },
    {
     "data": {
      "text/latex": [
       "$\\displaystyle \\kappa_{a} \\left(\\alpha P{\\left(\\alpha,\\alpha^{*},\\beta,\\beta^{*} \\right)} - \\frac{\\partial}{\\partial \\alpha^{*}} P{\\left(\\alpha,\\alpha^{*},\\beta,\\beta^{*} \\right)}\\right)$"
      ],
      "text/plain": [
       "\\kappa_a*(\\alpha*P(\\alpha, \\alpha^*, \\beta, \\beta^*) - Derivative(P(\\alpha, \\alpha^*, \\beta, \\beta^*), \\alpha^*))"
      ]
     },
     "metadata": {},
     "output_type": "display_data"
    },
    {
     "name": "stdout",
     "output_type": "stream",
     "text": [
      "Term 1 :\n"
     ]
    },
    {
     "data": {
      "text/latex": [
       "$\\displaystyle - \\frac{\\kappa_{a} \\rho a a^{\\dagger}}{2}$"
      ],
      "text/plain": [
       "-\\kappa_a*\\rho*a*Dagger(a)/2"
      ]
     },
     "metadata": {},
     "output_type": "display_data"
    },
    {
     "data": {
      "text/latex": [
       "$\\displaystyle \\rho a a^{\\dagger}$"
      ],
      "text/plain": [
       "\\rho*a*Dagger(a)"
      ]
     },
     "metadata": {},
     "output_type": "display_data"
    },
    {
     "data": {
      "text/latex": [
       "$\\displaystyle a a^{\\dagger}$"
      ],
      "text/plain": [
       "a*Dagger(a)"
      ]
     },
     "metadata": {},
     "output_type": "display_data"
    },
    {
     "name": "stdout",
     "output_type": "stream",
     "text": [
      "RHS term, order operators applied:\n",
      "[a, Dagger(a)]\n",
      "error\n"
     ]
    },
    {
     "data": {
      "text/latex": [
       "$\\displaystyle - \\frac{\\kappa_{a} \\left(\\alpha P{\\left(\\alpha,\\alpha^{*},\\beta,\\beta^{*} \\right)} - \\frac{\\partial}{\\partial \\alpha^{*}} P{\\left(\\alpha,\\alpha^{*},\\beta,\\beta^{*} \\right)}\\right)}{2}$"
      ],
      "text/plain": [
       "-\\kappa_a*(\\alpha*P(\\alpha, \\alpha^*, \\beta, \\beta^*) - Derivative(P(\\alpha, \\alpha^*, \\beta, \\beta^*), \\alpha^*))/2"
      ]
     },
     "metadata": {},
     "output_type": "display_data"
    },
    {
     "name": "stdout",
     "output_type": "stream",
     "text": [
      "Term 2 :\n"
     ]
    },
    {
     "data": {
      "text/latex": [
       "$\\displaystyle - \\frac{\\kappa_{a} a a^{\\dagger} \\rho}{2}$"
      ],
      "text/plain": [
       "-\\kappa_a*a*Dagger(a)*\\rho/2"
      ]
     },
     "metadata": {},
     "output_type": "display_data"
    },
    {
     "data": {
      "text/latex": [
       "$\\displaystyle a a^{\\dagger} \\rho$"
      ],
      "text/plain": [
       "a*Dagger(a)*\\rho"
      ]
     },
     "metadata": {},
     "output_type": "display_data"
    },
    {
     "data": {
      "text/latex": [
       "$\\displaystyle a a^{\\dagger}$"
      ],
      "text/plain": [
       "a*Dagger(a)"
      ]
     },
     "metadata": {},
     "output_type": "display_data"
    },
    {
     "name": "stdout",
     "output_type": "stream",
     "text": [
      "LHS term, order operators applied:\n",
      "[Dagger(a), a]\n",
      "error\n"
     ]
    },
    {
     "data": {
      "text/latex": [
       "$\\displaystyle - \\frac{\\alpha \\kappa_{a} P{\\left(\\alpha,\\alpha^{*},\\beta,\\beta^{*} \\right)}}{2}$"
      ],
      "text/plain": [
       "-\\alpha*\\kappa_a*P(\\alpha, \\alpha^*, \\beta, \\beta^*)/2"
      ]
     },
     "metadata": {},
     "output_type": "display_data"
    },
    {
     "name": "stdout",
     "output_type": "stream",
     "text": [
      "Term 3 :\n"
     ]
    },
    {
     "data": {
      "text/latex": [
       "$\\displaystyle i \\Delta_{a} a^{\\dagger} a \\rho$"
      ],
      "text/plain": [
       "I*\\Delta_a*a^\\dagger*a*\\rho"
      ]
     },
     "metadata": {},
     "output_type": "display_data"
    },
    {
     "data": {
      "text/latex": [
       "$\\displaystyle a \\rho$"
      ],
      "text/plain": [
       "a*\\rho"
      ]
     },
     "metadata": {},
     "output_type": "display_data"
    },
    {
     "data": {
      "text/latex": [
       "$\\displaystyle a$"
      ],
      "text/plain": [
       "a"
      ]
     },
     "metadata": {},
     "output_type": "display_data"
    },
    {
     "name": "stdout",
     "output_type": "stream",
     "text": [
      "LHS term, order operators applied:\n",
      "[a]\n"
     ]
    },
    {
     "data": {
      "text/latex": [
       "$\\displaystyle i \\Delta_{a} \\alpha P{\\left(\\alpha,\\alpha^{*},\\beta,\\beta^{*} \\right)} a^{\\dagger}$"
      ],
      "text/plain": [
       "I*\\Delta_a*\\alpha*P(\\alpha, \\alpha^*, \\beta, \\beta^*)*a^\\dagger"
      ]
     },
     "metadata": {},
     "output_type": "display_data"
    },
    {
     "name": "stdout",
     "output_type": "stream",
     "text": [
      "Term 4 :\n"
     ]
    },
    {
     "data": {
      "text/latex": [
       "$\\displaystyle i \\Delta_{b} b^{\\dagger} b \\rho$"
      ],
      "text/plain": [
       "I*\\Delta_b*b^\\dagger*b*\\rho"
      ]
     },
     "metadata": {},
     "output_type": "display_data"
    },
    {
     "data": {
      "text/latex": [
       "$\\displaystyle b \\rho$"
      ],
      "text/plain": [
       "b*\\rho"
      ]
     },
     "metadata": {},
     "output_type": "display_data"
    },
    {
     "data": {
      "text/latex": [
       "$\\displaystyle b$"
      ],
      "text/plain": [
       "b"
      ]
     },
     "metadata": {},
     "output_type": "display_data"
    },
    {
     "name": "stdout",
     "output_type": "stream",
     "text": [
      "LHS term, order operators applied:\n",
      "[b]\n"
     ]
    },
    {
     "data": {
      "text/latex": [
       "$\\displaystyle i \\Delta_{b} \\beta P{\\left(\\alpha,\\alpha^{*},\\beta,\\beta^{*} \\right)} b^{\\dagger}$"
      ],
      "text/plain": [
       "I*\\Delta_b*\\beta*P(\\alpha, \\alpha^*, \\beta, \\beta^*)*b^\\dagger"
      ]
     },
     "metadata": {},
     "output_type": "display_data"
    },
    {
     "name": "stdout",
     "output_type": "stream",
     "text": [
      "Term 5 :\n"
     ]
    },
    {
     "data": {
      "text/latex": [
       "$\\displaystyle - i \\Delta_{a} \\rho a^{\\dagger} a$"
      ],
      "text/plain": [
       "-I*\\Delta_a*\\rho*a^\\dagger*a"
      ]
     },
     "metadata": {},
     "output_type": "display_data"
    },
    {
     "data": {
      "text/latex": [
       "$\\displaystyle \\rho a$"
      ],
      "text/plain": [
       "\\rho*a"
      ]
     },
     "metadata": {},
     "output_type": "display_data"
    },
    {
     "data": {
      "text/latex": [
       "$\\displaystyle a$"
      ],
      "text/plain": [
       "a"
      ]
     },
     "metadata": {},
     "output_type": "display_data"
    },
    {
     "name": "stdout",
     "output_type": "stream",
     "text": [
      "RHS term, order operators applied:\n",
      "[a]\n"
     ]
    },
    {
     "data": {
      "text/latex": [
       "$\\displaystyle - i \\Delta_{a} \\left(\\alpha P{\\left(\\alpha,\\alpha^{*},\\beta,\\beta^{*} \\right)} - \\frac{\\partial}{\\partial \\alpha^{*}} P{\\left(\\alpha,\\alpha^{*},\\beta,\\beta^{*} \\right)}\\right) a^{\\dagger}$"
      ],
      "text/plain": [
       "-I*\\Delta_a*(\\alpha*P(\\alpha, \\alpha^*, \\beta, \\beta^*) - Derivative(P(\\alpha, \\alpha^*, \\beta, \\beta^*), \\alpha^*))*a^\\dagger"
      ]
     },
     "metadata": {},
     "output_type": "display_data"
    },
    {
     "name": "stdout",
     "output_type": "stream",
     "text": [
      "Term 6 :\n"
     ]
    },
    {
     "data": {
      "text/latex": [
       "$\\displaystyle - i \\Delta_{b} \\rho b^{\\dagger} b$"
      ],
      "text/plain": [
       "-I*\\Delta_b*\\rho*b^\\dagger*b"
      ]
     },
     "metadata": {},
     "output_type": "display_data"
    },
    {
     "data": {
      "text/latex": [
       "$\\displaystyle \\rho b$"
      ],
      "text/plain": [
       "\\rho*b"
      ]
     },
     "metadata": {},
     "output_type": "display_data"
    },
    {
     "data": {
      "text/latex": [
       "$\\displaystyle b$"
      ],
      "text/plain": [
       "b"
      ]
     },
     "metadata": {},
     "output_type": "display_data"
    },
    {
     "name": "stdout",
     "output_type": "stream",
     "text": [
      "RHS term, order operators applied:\n",
      "[b]\n"
     ]
    },
    {
     "data": {
      "text/latex": [
       "$\\displaystyle - i \\Delta_{b} \\left(\\beta P{\\left(\\alpha,\\alpha^{*},\\beta,\\beta^{*} \\right)} - \\frac{\\partial}{\\partial \\beta^{*}} P{\\left(\\alpha,\\alpha^{*},\\beta,\\beta^{*} \\right)}\\right) b^{\\dagger}$"
      ],
      "text/plain": [
       "-I*\\Delta_b*(\\beta*P(\\alpha, \\alpha^*, \\beta, \\beta^*) - Derivative(P(\\alpha, \\alpha^*, \\beta, \\beta^*), \\beta^*))*b^\\dagger"
      ]
     },
     "metadata": {},
     "output_type": "display_data"
    },
    {
     "name": "stdout",
     "output_type": "stream",
     "text": [
      "Result\n"
     ]
    },
    {
     "data": {
      "text/latex": [
       "$\\displaystyle i \\Delta_{a} \\frac{\\partial}{\\partial \\alpha^{*}} P{\\left(\\alpha,\\alpha^{*},\\beta,\\beta^{*} \\right)} a^{\\dagger} + i \\Delta_{b} \\frac{\\partial}{\\partial \\beta^{*}} P{\\left(\\alpha,\\alpha^{*},\\beta,\\beta^{*} \\right)} b^{\\dagger} - \\frac{\\kappa_{a} \\frac{\\partial}{\\partial \\alpha^{*}} P{\\left(\\alpha,\\alpha^{*},\\beta,\\beta^{*} \\right)}}{2}$"
      ],
      "text/plain": [
       "I*\\Delta_a*Derivative(P(\\alpha, \\alpha^*, \\beta, \\beta^*), \\alpha^*)*a^\\dagger + I*\\Delta_b*Derivative(P(\\alpha, \\alpha^*, \\beta, \\beta^*), \\beta^*)*b^\\dagger - \\kappa_a*Derivative(P(\\alpha, \\alpha^*, \\beta, \\beta^*), \\alpha^*)/2"
      ]
     },
     "metadata": {},
     "output_type": "display_data"
    }
   ],
   "source": [
    "myP= PhaseSpaceFunction(ME,'P')\n",
    "P_eqn = myP.getFPfromME()\n",
    "print('Result')\n",
    "display(expand(P_eqn))"
   ]
  },
  {
   "cell_type": "markdown",
   "metadata": {
    "id": "W9fpoBpI5-WX"
   },
   "source": [
    "# Separate Real and imaginary Parts Wigner"
   ]
  },
  {
   "cell_type": "markdown",
   "metadata": {},
   "source": [
    "## Not working for now, use mathematica file instead"
   ]
  },
  {
   "cell_type": "code",
   "execution_count": 13,
   "metadata": {
    "colab": {
     "base_uri": "https://localhost:8080/",
     "height": 392
    },
    "executionInfo": {
     "elapsed": 248,
     "status": "ok",
     "timestamp": 1668157918226,
     "user": {
      "displayName": "Debbie Eeltink",
      "userId": "06060535786777641520"
     },
     "user_tz": -60
    },
    "id": "wlp6_pKR6BeA",
    "outputId": "7c72ad00-0be4-45c9-ca4a-bbeba87e47ac"
   },
   "outputs": [
    {
     "data": {
      "text/latex": [
       "$\\displaystyle i \\Delta_{a} \\frac{\\partial}{\\partial \\alpha^{*}} W{\\left(\\alpha,\\alpha^{*},\\beta,\\beta^{*} \\right)} a^{\\dagger} + i \\Delta_{b} \\frac{\\partial}{\\partial \\beta^{*}} W{\\left(\\alpha,\\alpha^{*},\\beta,\\beta^{*} \\right)} b^{\\dagger} - \\frac{\\kappa_{a} \\frac{\\partial}{\\partial \\alpha^{*}} W{\\left(\\alpha,\\alpha^{*},\\beta,\\beta^{*} \\right)}}{2}$"
      ],
      "text/plain": [
       "I*\\Delta_a*Derivative(W(\\alpha, \\alpha^*, \\beta, \\beta^*), \\alpha^*)*a^\\dagger + I*\\Delta_b*Derivative(W(\\alpha, \\alpha^*, \\beta, \\beta^*), \\beta^*)*b^\\dagger - \\kappa_a*Derivative(W(\\alpha, \\alpha^*, \\beta, \\beta^*), \\alpha^*)/2"
      ]
     },
     "metadata": {},
     "output_type": "display_data"
    },
    {
     "data": {
      "text/latex": [
       "$\\displaystyle i \\Delta_{a} \\frac{\\partial}{\\partial \\alpha^{*}} W{\\left(\\alpha,\\alpha^{*},\\beta,- i b_{I} + b_{R} \\right)} a^{\\dagger} + i \\Delta_{b} \\left. \\frac{\\partial}{\\partial \\beta^{*}} W{\\left(\\alpha,\\alpha^{*},\\beta,\\beta^{*} \\right)} \\right|_{\\substack{ \\beta^{*}=- i b_{I} + b_{R} }} b^{\\dagger} - \\frac{\\kappa_{a} \\frac{\\partial}{\\partial \\alpha^{*}} W{\\left(\\alpha,\\alpha^{*},\\beta,- i b_{I} + b_{R} \\right)}}{2}$"
      ],
      "text/plain": [
       "I*\\Delta_a*Derivative(W(\\alpha, \\alpha^*, \\beta, -I*b_I + b_R), \\alpha^*)*a^\\dagger + I*\\Delta_b*Subs(Derivative(W(\\alpha, \\alpha^*, \\beta, \\beta^*), \\beta^*), \\beta^*, -I*b_I + b_R)*b^\\dagger - \\kappa_a*Derivative(W(\\alpha, \\alpha^*, \\beta, -I*b_I + b_R), \\alpha^*)/2"
      ]
     },
     "metadata": {},
     "output_type": "display_data"
    },
    {
     "data": {
      "text/latex": [
       "$\\displaystyle - \\frac{\\operatorname{re}{\\left(\\kappa_{a} \\frac{\\partial}{\\partial \\alpha^{*}} W{\\left(\\alpha,\\alpha^{*},\\beta,\\beta^{*} \\right)}\\right)}}{2} - \\operatorname{im}{\\left(\\Delta_{a} \\frac{\\partial}{\\partial \\alpha^{*}} W{\\left(\\alpha,\\alpha^{*},\\beta,\\beta^{*} \\right)} a^{\\dagger}\\right)} - \\operatorname{im}{\\left(\\Delta_{b} \\frac{\\partial}{\\partial \\beta^{*}} W{\\left(\\alpha,\\alpha^{*},\\beta,\\beta^{*} \\right)} b^{\\dagger}\\right)}$"
      ],
      "text/plain": [
       "-re(\\kappa_a*Derivative(W(\\alpha, \\alpha^*, \\beta, \\beta^*), \\alpha^*))/2 - im(\\Delta_a*Derivative(W(\\alpha, \\alpha^*, \\beta, \\beta^*), \\alpha^*)*a^\\dagger) - im(\\Delta_b*Derivative(W(\\alpha, \\alpha^*, \\beta, \\beta^*), \\beta^*)*b^\\dagger)"
      ]
     },
     "metadata": {},
     "output_type": "display_data"
    }
   ],
   "source": [
    "W_exp_comp = expand(W_eqn)\n",
    "display(W_exp_comp)\n",
    "\n",
    "# redefine symbols in original equation (not so nice that this has to be repeated but okay)\n",
    "\n",
    "#field = Function('W')(alpha,self.alphas,self.beta,self.betas) # can be W, Q or P\n",
    "alpha = Symbol(r'\\alpha', commutative=True)\n",
    "alphas = Symbol(r'\\alpha^*', commutative=True)\n",
    "beta = Symbol(r'\\beta', commutative=True)\n",
    "betas = Symbol(r'\\beta^*', commutative=True)\n",
    "\n",
    "# define real and imag parts:\n",
    "alpha_r = Symbol(r'a_R', commutative=True)\n",
    "alpha_i = Symbol(r'a_I', commutative=True)\n",
    "beta_r = Symbol(r'b_R', commutative=True)\n",
    "beta_i = Symbol(r'b_I', commutative=True)\n",
    "\n",
    "# substitute in expression\n",
    "W_exp_comp_sep =W_exp_comp.subs(alpha, alpha_r+sympy.I*alpha_i )\n",
    "W_exp_comp_sep =W_exp_comp.subs(alphas, alpha_r-sympy.I*alpha_i )\n",
    "W_exp_comp_sep = W_exp_comp.subs(beta, beta_r+sympy.I*beta_i )\n",
    "W_exp_comp_sep = W_exp_comp.subs(betas, beta_r-sympy.I*beta_i )\n",
    "\n",
    "display(W_exp_comp_sep)\n",
    "W_exp_Re = re(W_exp_comp)\n",
    "display(W_exp_Re)"
   ]
  },
  {
   "cell_type": "code",
   "execution_count": 14,
   "metadata": {},
   "outputs": [
    {
     "data": {
      "text/plain": [
       "{W(\\alpha, \\alpha^*, \\beta, \\beta^*)}"
      ]
     },
     "execution_count": 14,
     "metadata": {},
     "output_type": "execute_result"
    }
   ],
   "source": [
    "W_exp_comp = expand(W_eqn)\n",
    "W_exp_comp.atoms()\n",
    "W_exp_comp.atoms(Function)"
   ]
  },
  {
   "cell_type": "markdown",
   "metadata": {},
   "source": []
  },
  {
   "cell_type": "code",
   "execution_count": 15,
   "metadata": {},
   "outputs": [
    {
     "data": {
      "text/plain": [
       "'i \\\\Delta_{a} \\\\frac{\\\\partial}{\\\\partial \\\\alpha^{*}} W{\\\\left(\\\\alpha,\\\\alpha^{*},\\\\beta,\\\\beta^{*} \\\\right)} a^{\\\\dagger} + i \\\\Delta_{b} \\\\frac{\\\\partial}{\\\\partial \\\\beta^{*}} W{\\\\left(\\\\alpha,\\\\alpha^{*},\\\\beta,\\\\beta^{*} \\\\right)} b^{\\\\dagger} - \\\\frac{\\\\kappa_{a} \\\\frac{\\\\partial}{\\\\partial \\\\alpha^{*}} W{\\\\left(\\\\alpha,\\\\alpha^{*},\\\\beta,\\\\beta^{*} \\\\right)}}{2}'"
      ]
     },
     "execution_count": 15,
     "metadata": {},
     "output_type": "execute_result"
    }
   ],
   "source": [
    "latex(W_exp_comp)"
   ]
  },
  {
   "cell_type": "code",
   "execution_count": null,
   "metadata": {},
   "outputs": [],
   "source": []
  },
  {
   "cell_type": "code",
   "execution_count": null,
   "metadata": {},
   "outputs": [],
   "source": []
  },
  {
   "cell_type": "code",
   "execution_count": null,
   "metadata": {},
   "outputs": [],
   "source": []
  }
 ],
 "metadata": {
  "colab": {
   "authorship_tag": "ABX9TyPeQMMB6ohDDipa91L7JxBW",
   "collapsed_sections": [],
   "mount_file_id": "1ncZMrByEUVfhoqqZSSMdMUfh82WN59MT",
   "provenance": [
    {
     "file_id": "1ncZMrByEUVfhoqqZSSMdMUfh82WN59MT",
     "timestamp": 1668088598945
    },
    {
     "file_id": "1fOgk97hDyU4lq9QKNjKNVbOY9e24ePIc",
     "timestamp": 1668076131951
    }
   ]
  },
  "kernelspec": {
   "display_name": "Python 3 (ipykernel)",
   "language": "python",
   "name": "python3"
  },
  "language_info": {
   "codemirror_mode": {
    "name": "ipython",
    "version": 3
   },
   "file_extension": ".py",
   "mimetype": "text/x-python",
   "name": "python",
   "nbconvert_exporter": "python",
   "pygments_lexer": "ipython3",
   "version": "3.10.6"
  }
 },
 "nbformat": 4,
 "nbformat_minor": 4
}
